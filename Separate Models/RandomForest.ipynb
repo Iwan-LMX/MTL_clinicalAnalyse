{
 "cells": [
  {
   "cell_type": "code",
   "execution_count": 12,
   "metadata": {},
   "outputs": [],
   "source": [
    "import numpy as np\n",
    "import pandas as pd\n",
    "from sklearn.preprocessing import StandardScaler\n",
    "from sklearn.ensemble import RandomForestClassifier\n",
    "from sklearn.model_selection import train_test_split\n",
    "from sklearn.model_selection import train_test_split\n",
    "from sklearn.metrics import classification_report, accuracy_score,confusion_matrix,f1_score, roc_curve, auc,roc_auc_score,log_loss,make_scorer\n",

    "from Include.MLSMOTE import get_tail_label,get_index,get_minority_instace,MLSMOTE"

   ]
  },
  {
   "cell_type": "code",
   "execution_count": 13,
   "metadata": {},
   "outputs": [
    {
     "name": "stdout",
     "output_type": "stream",
     "text": [
      "(1000, 72)\n",
      "(700, 72)\n"
     ]
    }
   ],
   "source": [
    "# 加载数据\n",
    "x_train = np.load('../Training data/X_train.npy')  # 特征 (1000, 111)\n",
    "y_train = np.load('../Training data/y_train.npy')  # 目标 (1000, 11)\n",
    "x_test=np.load(\"../Testing data/X_test.npy\")\n",

    "\n",
    "\n",
    "x_train = pd.DataFrame(x_train).rename(columns={i: f\"x_{i}\" for i in range(111)})\n",
    "y_train = pd.DataFrame(y_train).rename(columns={i: f\"y_{i}\" for i in range(11)})\n",
    "x_test = pd.DataFrame(x_test).rename(columns={i: f\"x_{i}\" for i in range(111)})\n",
    "\n",
    "#中位数填补\n",
    "for column in x_train.columns:\n",
    "    x_train.fillna({column: x_train[column].median()}, inplace=True)\n",
    "    x_test.fillna({column: x_test[column].median()}, inplace=True)\n",
    "\n",
    "\n",
    "# 找出非零值少于1%的列\n",
    "threshold = 0.01  # 或者任何认为合适的值\n",
    "cols_to_drop = [col for col in x_train.columns if (x_train[col] != 0).mean() < threshold]\n",
    "\n",
    "# 删除这些列\n",
    "x_train.drop(columns=cols_to_drop, inplace=True)\n",
    "x_test.drop(columns=cols_to_drop, inplace=True)\n",
    "\n",
    "# 特征缩放\n",
    "scaler = StandardScaler()\n",
    "x_train = pd.DataFrame(scaler.fit_transform(x_train), columns=x_train.columns)\n",
    "x_test = pd.DataFrame(scaler.fit_transform(x_test), columns=x_test.columns)\n",
    "\n",
    "print(x_train.shape)\n",
    "print(x_test.shape)"
   ]
  },
  {
   "cell_type": "code",
   "execution_count": 14,
   "metadata": {},
   "outputs": [
    {
     "name": "stdout",
     "output_type": "stream",
     "text": [
      "(1415, 72)\n",
      "(1415, 11)\n",
      "(354, 72)\n"
     ]
    }
   ],
   "source": [
    "# 寻找尾部标签\n",
    "tail_labels = get_tail_label(y_train)\n",
    "\n",
    "# 获取尾部标签的索引\n",
    "indices = get_index(y_train)\n",
    "\n",
    "# 获取尾部标签的样本\n",
    "X_sub, y_sub = get_minority_instace(x_train, y_train)\n",
    "\n",
    "# 应用MLSMOTE来增强数据集\n",
    "X_resampled, y_resampled = MLSMOTE(X_sub, y_sub, 1)  # 假设生成新样本\n",
    "\n",
    "# 合并原始数据和生成的数据\n",
    "X_train_final = pd.concat([x_train, X_resampled], ignore_index=True)\n",
    "y_train_final = pd.concat([y_train, y_resampled], ignore_index=True)\n",
    "\n",
    "# 划分出来百分之二十的测试集\n",
    "X_train, X_valid, Y_train, Y_valid = train_test_split(X_train_final, y_train_final, test_size=0.2, random_state=42)\n",
    "print(X_train.shape)\n",
    "print(Y_train.shape)\n",
    "print(X_valid.shape)"
   ]
  },
  {
   "cell_type": "code",
   "execution_count": 15,
   "metadata": {},
   "outputs": [],
   "source": [
    "def loss(y_true, y_pred):\n",
    "    # 确保 y_true 和 y_pred 都是 DataFrame\n",
    "    if not isinstance(y_true, pd.DataFrame):\n",
    "        y_true = pd.DataFrame(y_true)\n",
    "    if not isinstance(y_pred, pd.DataFrame):\n",
    "        y_pred = pd.DataFrame(y_pred)\n",
    "    \n",
    "    logloss = 0\n",
    "    # 对每个标签计算log_loss并累加\n",
    "    for i in range(y_true.shape[1]):  \n",
    "        logloss += log_loss(y_true.iloc[:, i], y_pred.iloc[:, i], labels=[0,1])\n",
    "    # 计算平均log_loss\n",
    "    return logloss / y_true.shape[1]"
   ]
  },
  {
   "cell_type": "code",
   "execution_count": 16,
   "metadata": {},
   "outputs": [
    {
     "name": "stdout",
     "output_type": "stream",
     "text": [
      "Average Accuracy: 0.9178222907036466\n",
      "Average F1-Score: 0.8352802125607202\n",
      "Average ROC-AUC: 0.9521518298442261\n",
      "Average Loss: 1.131949291998175\n"
     ]
    }
   ],
   "source": [
    "# 创建SVM模型，使用循环遍历每个y的维度\n",
    "num_labels = y_train_final.shape[1]  # y_train_final有11个标签\n",
    "random_forest_models = []\n",
    "average_scores = {\n",
    "    'accuracy': [],\n",
    "    'f1_score': [],\n",
    "    'roc_auc': []\n",
    "}\n",
    "predictions = pd.DataFrame()\n",
    "predictions_proba = np.zeros((Y_valid.shape[0], num_labels * 2))\n",
    "for i in range(num_labels):\n",
    "    # 提取目标标签列\n",
    "    Y_train_label = Y_train.iloc[:, i]\n",
    "    Y_valid_label = Y_valid.iloc[:, i]\n",
    "\n",
    "    # 训练SVM模型\n",
    "    model = RandomForestClassifier(n_estimators=100, random_state=42)  # 使用100棵树\n",
    "    model.fit(X_train, Y_train_label)\n",
    "\n",
    "    random_forest_models.append(model)\n",
    "\n",
    "    # 预测\n",
    "    Y_pred = model.predict(X_valid)\n",
    "    Y_pred_prob = model.predict_proba(X_valid)\n",
    "    predictions_proba[:, 2*i:2*i+2] = Y_pred_prob\n",
    "\n",
    "    # 计算指标\n",
    "    acc = accuracy_score(Y_valid_label, Y_pred)\n",
    "    f1 = f1_score(Y_valid_label, Y_pred)\n",
    "    roc_auc = roc_auc_score(Y_valid_label, Y_pred_prob[:, 1])\n",
    "\n",
    "    average_scores['accuracy'].append(acc)\n",
    "    average_scores['f1_score'].append(f1)\n",
    "    average_scores['roc_auc'].append(roc_auc)\n",
    "\n",
    "    Y_pred_test=model.predict(x_test)\n",
    "    predictions[f'y_pred_{i}'] = Y_pred_test\n",
    "\n",
    "# 计算平均指标\n",
    "average_loss = loss(Y_valid, predictions_proba)\n",
    "mean_accuracy = np.mean(average_scores['accuracy'])\n",
    "mean_f1 = np.mean(average_scores['f1_score'])\n",
    "mean_roc_auc = np.mean(average_scores['roc_auc'])\n",
    "\n",
    "print(f\"Average Accuracy: {mean_accuracy}\")\n",
    "print(f\"Average F1-Score: {mean_f1}\")\n",
    "print(f\"Average ROC-AUC: {mean_roc_auc}\")\n",
    "print(f\"Average Loss: {average_loss}\")"
   ]
  },
  {
   "cell_type": "code",
   "execution_count": 17,
   "metadata": {},
   "outputs": [
    {
     "name": "stdout",
     "output_type": "stream",
     "text": [
      "     y_pred_0  y_pred_1  y_pred_2  y_pred_3  y_pred_4  y_pred_5  y_pred_6  \\\n",
      "0         0.0       0.0       0.0       0.0       0.0       0.0       0.0   \n",
      "1         0.0       0.0       0.0       0.0       0.0       0.0       0.0   \n",
      "2         0.0       0.0       0.0       0.0       0.0       0.0       0.0   \n",
      "3         0.0       0.0       0.0       0.0       0.0       0.0       0.0   \n",
      "4         0.0       0.0       0.0       0.0       0.0       0.0       0.0   \n",
      "..        ...       ...       ...       ...       ...       ...       ...   \n",
      "695       0.0       0.0       0.0       0.0       0.0       0.0       0.0   \n",
      "696       0.0       0.0       0.0       0.0       0.0       0.0       0.0   \n",
      "697       0.0       0.0       0.0       0.0       0.0       0.0       0.0   \n",
      "698       0.0       0.0       0.0       0.0       0.0       0.0       0.0   \n",
      "699       0.0       0.0       0.0       0.0       0.0       0.0       0.0   \n",
      "\n",
      "     y_pred_7  y_pred_8  y_pred_9  y_pred_10  \n",
      "0         0.0       0.0       0.0        0.0  \n",
      "1         0.0       0.0       0.0        0.0  \n",
      "2         0.0       1.0       0.0        0.0  \n",
      "3         0.0       0.0       0.0        0.0  \n",
      "4         0.0       1.0       0.0        0.0  \n",
      "..        ...       ...       ...        ...  \n",
      "695       0.0       0.0       0.0        0.0  \n",
      "696       0.0       0.0       0.0        0.0  \n",
      "697       0.0       0.0       0.0        0.0  \n",
      "698       0.0       1.0       0.0        0.0  \n",
      "699       0.0       0.0       0.0        0.0  \n",
      "\n",
      "[700 rows x 11 columns]\n"
     ]
    }
   ],
   "source": [
    "print(predictions)"
   ]
  }
 ],
 "metadata": {
  "kernelspec": {
   "display_name": "comp9517",
   "language": "python",
   "name": "python3"
  },
  "language_info": {
   "codemirror_mode": {
    "name": "ipython",
    "version": 3
   },
   "file_extension": ".py",
   "mimetype": "text/x-python",
   "name": "python",
   "nbconvert_exporter": "python",
   "pygments_lexer": "ipython3",
   "version": "3.9.18"
  }
 },
 "nbformat": 4,
 "nbformat_minor": 2
}
