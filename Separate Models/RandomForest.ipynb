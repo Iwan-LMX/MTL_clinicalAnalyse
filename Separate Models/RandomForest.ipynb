{
 "cells": [
  {
   "cell_type": "code",
   "execution_count": 4,
   "metadata": {},
   "outputs": [],
   "source": [
    "import numpy as np\n",
    "import pandas as pd\n",
    "from scipy.stats import skew, kurtosis\n",
    "from scipy.special import boxcox1p\n",
    "from sklearn.preprocessing import PowerTransformer\n",
    "from sklearn.ensemble import RandomForestClassifier\n",
    "from sklearn.model_selection import train_test_split\n",
    "from sklearn.metrics import classification_report, accuracy_score,confusion_matrix\n",
    "from imblearn.over_sampling import SMOTE\n",
    "from sklearn.model_selection import cross_val_score,StratifiedKFold"
   ]
  },
  {
   "cell_type": "code",
   "execution_count": 5,
   "metadata": {},
   "outputs": [],
   "source": [
    "x_train=np.load(\"Training data/X_train.npy\")\n",
    "y_train=np.load(\"Training data/y_train.npy\")\n",
    "x_test=np.load(\"Testing data/X_test.npy\")\n",
    "\n",
    "x_train = pd.DataFrame(x_train).rename(columns={i: f\"x_{i}\" for i in range(111)})\n",
    "y_train = pd.DataFrame(y_train).rename(columns={i: f\"x_{i}\" for i in range(111)})\n",
    "x_test = pd.DataFrame(x_test).rename(columns={i: f\"x_{i}\" for i in range(111)})"
   ]
  },
  {
   "cell_type": "code",
   "execution_count": 6,
   "metadata": {},
   "outputs": [],
   "source": [
    "#中位数填补\n",
    "for column in x_train.columns:\n",
    "    x_train[column].fillna(x_train[column].median(), inplace=True)\n",
    "    x_test[column].fillna(x_test[column].median(), inplace=True)"
   ]
  },
  {
   "cell_type": "code",
   "execution_count": 7,
   "metadata": {},
   "outputs": [],
   "source": [
    "threshold = 0.01  # 或者任何认为合适的值\n",
    "\n",
    "# 找出非零值少于1%的列\n",
    "cols_to_drop = [col for col in x_train.columns if (x_train[col] != 0).mean() < threshold]\n",
    "\n",
    "# 删除这些列\n",
    "x_train.drop(columns=cols_to_drop, inplace=True)\n",
    "x_test.drop(columns=cols_to_drop, inplace=True)"
   ]
  },
  {
   "cell_type": "code",
   "execution_count": 8,
   "metadata": {},
   "outputs": [],
   "source": [
    "y = y_train.iloc[:, 1]  # 选择第几个目标特征"
   ]
  },
  {
   "cell_type": "code",
   "execution_count": 9,
   "metadata": {},
   "outputs": [
    {
     "name": "stdout",
     "output_type": "stream",
     "text": [
      "              precision    recall  f1-score   support\n",
      "\n",
      "           0       0.79      1.00      0.88       157\n",
      "           1       0.00      0.00      0.00        43\n",
      "\n",
      "    accuracy                           0.79       200\n",
      "   macro avg       0.39      0.50      0.44       200\n",
      "weighted avg       0.62      0.79      0.69       200\n",
      "\n",
      "Accuracy: 0.785\n"
     ]
    },
    {
     "name": "stderr",
     "output_type": "stream",
     "text": [
      "/Users/ban/anaconda3/envs/comp9517/lib/python3.9/site-packages/sklearn/metrics/_classification.py:1469: UndefinedMetricWarning: Precision and F-score are ill-defined and being set to 0.0 in labels with no predicted samples. Use `zero_division` parameter to control this behavior.\n",
      "  _warn_prf(average, modifier, msg_start, len(result))\n",
      "/Users/ban/anaconda3/envs/comp9517/lib/python3.9/site-packages/sklearn/metrics/_classification.py:1469: UndefinedMetricWarning: Precision and F-score are ill-defined and being set to 0.0 in labels with no predicted samples. Use `zero_division` parameter to control this behavior.\n",
      "  _warn_prf(average, modifier, msg_start, len(result))\n",
      "/Users/ban/anaconda3/envs/comp9517/lib/python3.9/site-packages/sklearn/metrics/_classification.py:1469: UndefinedMetricWarning: Precision and F-score are ill-defined and being set to 0.0 in labels with no predicted samples. Use `zero_division` parameter to control this behavior.\n",
      "  _warn_prf(average, modifier, msg_start, len(result))\n"
     ]
    }
   ],
   "source": [
    "# 拆分数据为训练集和验证集\n",
    "X_train, X_valid, Y_train, Y_valid = train_test_split(x_train, y, test_size=0.2, random_state=42)\n",
    "\n",
    "# 初始化随机森林模型\n",
    "rf_classifier = RandomForestClassifier(n_estimators=100, random_state=42)\n",
    "\n",
    "# 训练模型\n",
    "rf_classifier.fit(X_train, Y_train)\n",
    "\n",
    "# 在验证集上进行预测\n",
    "y_valid_pred = rf_classifier.predict(X_valid)\n",
    "\n",
    "# 打印分类报告\n",
    "print(classification_report(Y_valid, y_valid_pred))\n",
    "print(\"Accuracy:\", accuracy_score(Y_valid, y_valid_pred))"
   ]
  },
  {
   "cell_type": "markdown",
   "metadata": {},
   "source": [
    "直接用随机森林预测无法预测任何一个1，所以需要对少量类别样本过采样"
   ]
  },
  {
   "cell_type": "code",
   "execution_count": 10,
   "metadata": {},
   "outputs": [
    {
     "name": "stdout",
     "output_type": "stream",
     "text": [
      "              precision    recall  f1-score   support\n",
      "\n",
      "           0       0.82      0.98      0.89       168\n",
      "           1       0.97      0.76      0.85       147\n",
      "\n",
      "    accuracy                           0.88       315\n",
      "   macro avg       0.89      0.87      0.87       315\n",
      "weighted avg       0.89      0.88      0.87       315\n",
      "\n",
      "Confusion Matrix\n",
      " [[164   4]\n",
      " [ 35 112]]\n",
      "Accuracy: 0.8761904761904762\n"
     ]
    }
   ],
   "source": [
    "smote = SMOTE(random_state=42)\n",
    "# 使用SMOTE过采样处理不平衡的数据\n",
    "X_train_smote, Y_train_smote = smote.fit_resample(x_train, y)\n",
    "# 拆分数据为训练集和验证集\n",
    "X_train, X_valid, Y_train, Y_valid = train_test_split(X_train_smote, Y_train_smote, test_size=0.2, random_state=42)\n",
    "# 初始化随机森林模型\n",
    "rf_classifier = RandomForestClassifier(n_estimators=100, random_state=42)\n",
    "# 训练模型\n",
    "rf_classifier.fit(X_train, Y_train)\n",
    "# 预测\n",
    "y_valid_pred = rf_classifier.predict(X_valid)\n",
    "\n",
    "conf_matrix = confusion_matrix(Y_valid, y_valid_pred)\n",
    "\n",
    "# 打印分类报告\n",
    "print(classification_report(Y_valid, y_valid_pred))\n",
    "print(\"Confusion Matrix\\n\",conf_matrix)\n",
    "print(\"Accuracy:\", accuracy_score(Y_valid, y_valid_pred))"
   ]
  },
  {
   "cell_type": "markdown",
   "metadata": {},
   "source": [
    "以上是用过采样后的数据进行验证的，可能在真实的数据不平衡的数据集上表现不好，而且从结果看预测标签0时候表现更好，预测标签1时有33个被错误预测为负例。"
   ]
  },
  {
   "cell_type": "markdown",
   "metadata": {},
   "source": [
    "**交叉验证，用过采样的数据训练，用原始的数据验证**"
   ]
  },
  {
   "cell_type": "code",
   "execution_count": 11,
   "metadata": {},
   "outputs": [
    {
     "name": "stdout",
     "output_type": "stream",
     "text": [
      "[0.79, 0.79, 0.785, 0.785, 0.78]\n",
      "Average Cross-Validated Accuracy: 0.79\n"
     ]
    }
   ],
   "source": [
    "# 初始化SMOTE\n",
    "smote = SMOTE(random_state=42)\n",
    "# 初始化随机森林模型\n",
    "rf_classifier = RandomForestClassifier(n_estimators=100, random_state=42)\n",
    "# 初始化交叉验证方法\n",
    "kf = StratifiedKFold(n_splits=5, shuffle=True, random_state=42)\n",
    "# 准备保存分数\n",
    "scores = []\n",
    "\n",
    "# StratifiedKFold保持每个折的类别比例\n",
    "for train_index, test_index in kf.split(x_train, y):\n",
    "    # 分割数据\n",
    "    X_train_fold, X_test_fold = x_train.iloc[train_index], x_train.iloc[test_index]\n",
    "    Y_train_fold, Y_test_fold = y.iloc[train_index], y.iloc[test_index]\n",
    "    # 在每个训练折上应用SMOTE\n",
    "    X_train_fold_smote, Y_train_fold_smote = smote.fit_resample(X_train_fold, Y_train_fold)\n",
    "    # 在SMOTE处理过的训练数据上训练模型\n",
    "    rf_classifier.fit(X_train_fold_smote, Y_train_fold_smote)\n",
    "    # 验证模型在原始未处理的验证折上的性能\n",
    "    Y_pred_fold = rf_classifier.predict(X_test_fold)\n",
    "    scores.append(accuracy_score(Y_test_fold, Y_pred_fold))\n",
    "\n",
    "# 输出每一折的准确率\n",
    "print(scores)\n",
    "# 输出平均准确率\n",
    "print(\"Average Cross-Validated Accuracy: %0.2f\" % np.mean(scores))"
   ]
  },
  {
   "cell_type": "code",
   "execution_count": 12,
   "metadata": {},
   "outputs": [
    {
     "name": "stdout",
     "output_type": "stream",
     "text": [
      "Scores for target 0:\n",
      "Accuracy: 0.7\n",
      "ROC AUC: 0.4912202380952381\n",
      "Scores for target 1:\n",
      "Accuracy: 0.7860000000000001\n",
      "ROC AUC: 0.48887747212946103\n",
      "Scores for target 2:\n",
      "Accuracy: 0.777\n",
      "ROC AUC: 0.5063878048474824\n",
      "Scores for target 3:\n",
      "Accuracy: 0.76\n",
      "ROC AUC: 0.5216344231186153\n",
      "Scores for target 4:\n",
      "Accuracy: 0.766\n",
      "ROC AUC: 0.5109657096937393\n",
      "Scores for target 5:\n",
      "Accuracy: 0.711\n",
      "ROC AUC: 0.4938102486047692\n",
      "Scores for target 6:\n",
      "Accuracy: 0.781\n",
      "ROC AUC: 0.5222173659673659\n",
      "Scores for target 7:\n",
      "Accuracy: 0.744\n",
      "ROC AUC: 0.5022554075438123\n",
      "Scores for target 8:\n",
      "Accuracy: 0.5959999999999999\n",
      "ROC AUC: 0.5378711474468798\n",
      "Scores for target 9:\n",
      "Accuracy: 0.7140000000000001\n",
      "ROC AUC: 0.5132447351804934\n",
      "Scores for target 10:\n",
      "Accuracy: 0.7190000000000001\n",
      "ROC AUC: 0.549972786647315\n",
      "Average Scores for all targets:\n",
      "Average Accuracy: 0.7321818181818182\n",
      "Average Precision: 0.21765729378169574\n",
      "Average Recall: 0.03669239827224443\n",
      "Average F1 Score: 0.05605584602792293\n",
      "Average ROC AUC Score: 0.549972786647315\n"
     ]
    }
   ],
   "source": [
    "from sklearn.metrics import accuracy_score, precision_score, recall_score, f1_score, roc_auc_score\n",
    "\n",
    "# 初始化SMOTE\n",
    "smote = SMOTE(random_state=42)\n",
    "# 初始化随机森林模型\n",
    "rf_classifier = RandomForestClassifier(n_estimators=100, random_state=42)\n",
    "# 初始化交叉验证方法\n",
    "kf = StratifiedKFold(n_splits=5, shuffle=True, random_state=42)\n",
    "\n",
    "# 准备保存所有特征的分数\n",
    "all_scores = {\n",
    "    'accuracy': [],\n",
    "    'precision': [],\n",
    "    'recall': [],\n",
    "    'f1': [],\n",
    "    'roc_auc': []\n",
    "}\n",
    "\n",
    "# 对y_train的每一列（即每一个标签）进行操作\n",
    "for i in range(y_train.shape[1]):\n",
    "    y = y_train.iloc[:, i]  # 选择第i个目标特征\n",
    "    scores = []  # 用于保存当前目标特征的分数\n",
    "    roc_auc_scores = []\n",
    "\n",
    "    # StratifiedKFold保持每个折的类别比例\n",
    "    for train_index, test_index in kf.split(x_train, y):\n",
    "        # 分割数据\n",
    "        X_train_fold, X_test_fold = x_train.iloc[train_index], x_train.iloc[test_index]\n",
    "        Y_train_fold, Y_test_fold = y.iloc[train_index], y.iloc[test_index]\n",
    "        # 在每个训练折上应用SMOTE\n",
    "        X_train_fold_smote, Y_train_fold_smote = smote.fit_resample(X_train_fold, Y_train_fold)\n",
    "        # 在SMOTE处理过的训练数据上训练模型\n",
    "        rf_classifier.fit(X_train_fold_smote, Y_train_fold_smote)\n",
    "        # 验证模型在原始未处理的验证折上的性能\n",
    "        Y_pred_fold = rf_classifier.predict(X_test_fold)\n",
    "\n",
    "        # 保存当前目标特征的分数\n",
    "        scores.append(accuracy_score(Y_test_fold, Y_pred_fold))\n",
    "        all_scores['accuracy'].append(accuracy_score(Y_test_fold, Y_pred_fold))\n",
    "        all_scores['precision'].append(precision_score(Y_test_fold, Y_pred_fold, zero_division=0))\n",
    "        all_scores['recall'].append(recall_score(Y_test_fold, Y_pred_fold, zero_division=0))\n",
    "        all_scores['f1'].append(f1_score(Y_test_fold, Y_pred_fold, zero_division=0))\n",
    "        \n",
    "        # 计算AUC分数，需要预测概率，这里只在标签平衡时计算\n",
    "        if len(np.unique(Y_test_fold)) > 1:\n",
    "            Y_pred_probs_fold = rf_classifier.predict_proba(X_test_fold)[:, 1]\n",
    "            roc_auc_scores.append(roc_auc_score(Y_test_fold, Y_pred_probs_fold))\n",
    "        else:\n",
    "            roc_auc_scores.append(np.nan)  # 当某一类别没有出现在测试集中时，跳过AUC计算\n",
    "\n",
    "    # 输出当前目标特征的平均分数\n",
    "    print(f\"Scores for target {i}:\")\n",
    "    print(f\"Accuracy: {np.mean(scores)}\")\n",
    "    print(f\"ROC AUC: {np.nanmean(roc_auc_scores)}\")\n",
    "\n",
    "# 输出所有目标特征的平均分数\n",
    "print(\"Average Scores for all targets:\")\n",
    "print(f\"Average Accuracy: {np.mean(all_scores['accuracy'])}\")\n",
    "print(f\"Average Precision: {np.mean(all_scores['precision'])}\")\n",
    "print(f\"Average Recall: {np.mean(all_scores['recall'])}\")\n",
    "print(f\"Average F1 Score: {np.mean(all_scores['f1'])}\")\n",
    "print(f\"Average ROC AUC Score: {np.nanmean(roc_auc_scores)}\")\n"
   ]
  }
 ],
 "metadata": {
  "kernelspec": {
   "display_name": "comp9517",
   "language": "python",
   "name": "python3"
  },
  "language_info": {
   "codemirror_mode": {
    "name": "ipython",
    "version": 3
   },
   "file_extension": ".py",
   "mimetype": "text/x-python",
   "name": "python",
   "nbconvert_exporter": "python",
   "pygments_lexer": "ipython3",
   "version": "3.9.18"
  }
 },
 "nbformat": 4,
 "nbformat_minor": 2
}
