{
 "cells": [
  {
   "cell_type": "markdown",
   "metadata": {},
   "source": [
    "# EDA extensive exploratory data analysis"
   ]
  },
  {
   "cell_type": "code",
   "execution_count": 1,
   "metadata": {},
   "outputs": [],
   "source": [
    "#head packages import\n",
    "import gc\n",
    "import numpy as np\n",
    "import pandas as pd\n",
    "from IPython.core.interactiveshell import InteractiveShell\n",
    "InteractiveShell.ast_node_interactivity = \"all\"\n",
    "\n",
    "import matplotlib.pyplot as plt\n",
    "import seaborn as sns\n",
    "%matplotlib inline\n",
    "\n",
    "from sklearn import metrics\n",
    "from sklearn.model_selection import train_test_split, cross_validate, GridSearchCV\n",
    "\n",
    "pd.set_option('display.max_columns' ,30) #setting as None for all row and cols\n",
    "pd.set_option('display.max_rows' , 10)\n",
    "\n",
    "train_x = np.load(\"./Training data/X_train.npy\")\n",
    "train_y = np.load(\"./Training data/y_train.npy\")\n",
    "test_x  = np.load(\"./Testing data/X_test.npy\")"
   ]
  },
  {
   "cell_type": "markdown",
   "metadata": {},
   "source": [
    "1. Data overview"
   ]
  },
  {
   "cell_type": "code",
   "execution_count": 2,
   "metadata": {},
   "outputs": [
    {
     "data": {
      "text/html": [
       "<div>\n",
       "<style scoped>\n",
       "    .dataframe tbody tr th:only-of-type {\n",
       "        vertical-align: middle;\n",
       "    }\n",
       "\n",
       "    .dataframe tbody tr th {\n",
       "        vertical-align: top;\n",
       "    }\n",
       "\n",
       "    .dataframe thead th {\n",
       "        text-align: right;\n",
       "    }\n",
       "</style>\n",
       "<table border=\"1\" class=\"dataframe\">\n",
       "  <thead>\n",
       "    <tr style=\"text-align: right;\">\n",
       "      <th></th>\n",
       "      <th>x_0</th>\n",
       "      <th>x_1</th>\n",
       "      <th>x_2</th>\n",
       "      <th>x_3</th>\n",
       "      <th>x_4</th>\n",
       "      <th>x_5</th>\n",
       "      <th>x_6</th>\n",
       "      <th>x_7</th>\n",
       "      <th>x_8</th>\n",
       "      <th>x_9</th>\n",
       "      <th>x_10</th>\n",
       "      <th>x_11</th>\n",
       "      <th>x_12</th>\n",
       "      <th>x_13</th>\n",
       "      <th>x_14</th>\n",
       "      <th>...</th>\n",
       "      <th>x_96</th>\n",
       "      <th>x_97</th>\n",
       "      <th>x_98</th>\n",
       "      <th>x_99</th>\n",
       "      <th>x_100</th>\n",
       "      <th>x_101</th>\n",
       "      <th>x_102</th>\n",
       "      <th>x_103</th>\n",
       "      <th>x_104</th>\n",
       "      <th>x_105</th>\n",
       "      <th>x_106</th>\n",
       "      <th>x_107</th>\n",
       "      <th>x_108</th>\n",
       "      <th>x_109</th>\n",
       "      <th>x_110</th>\n",
       "    </tr>\n",
       "  </thead>\n",
       "  <tbody>\n",
       "    <tr>\n",
       "      <th>0</th>\n",
       "      <td>57.0</td>\n",
       "      <td>5.0</td>\n",
       "      <td>0.0</td>\n",
       "      <td>0.0</td>\n",
       "      <td>0.0</td>\n",
       "      <td>2.0</td>\n",
       "      <td>NaN</td>\n",
       "      <td>2.0</td>\n",
       "      <td>0.0</td>\n",
       "      <td>NaN</td>\n",
       "      <td>0.0</td>\n",
       "      <td>0.0</td>\n",
       "      <td>0.0</td>\n",
       "      <td>0.0</td>\n",
       "      <td>0.0</td>\n",
       "      <td>...</td>\n",
       "      <td>NaN</td>\n",
       "      <td>0.0</td>\n",
       "      <td>0.0</td>\n",
       "      <td>1.0</td>\n",
       "      <td>3.0</td>\n",
       "      <td>3.0</td>\n",
       "      <td>0.0</td>\n",
       "      <td>0.0</td>\n",
       "      <td>3.0</td>\n",
       "      <td>0.0</td>\n",
       "      <td>0.0</td>\n",
       "      <td>0.0</td>\n",
       "      <td>0.0</td>\n",
       "      <td>0.0</td>\n",
       "      <td>0.0</td>\n",
       "    </tr>\n",
       "    <tr>\n",
       "      <th>1</th>\n",
       "      <td>71.0</td>\n",
       "      <td>2.0</td>\n",
       "      <td>2.0</td>\n",
       "      <td>NaN</td>\n",
       "      <td>NaN</td>\n",
       "      <td>2.0</td>\n",
       "      <td>NaN</td>\n",
       "      <td>3.0</td>\n",
       "      <td>0.0</td>\n",
       "      <td>7.0</td>\n",
       "      <td>4.0</td>\n",
       "      <td>0.0</td>\n",
       "      <td>0.0</td>\n",
       "      <td>0.0</td>\n",
       "      <td>0.0</td>\n",
       "      <td>...</td>\n",
       "      <td>0.0</td>\n",
       "      <td>1.0</td>\n",
       "      <td>1.0</td>\n",
       "      <td>NaN</td>\n",
       "      <td>NaN</td>\n",
       "      <td>5.0</td>\n",
       "      <td>NaN</td>\n",
       "      <td>NaN</td>\n",
       "      <td>4.0</td>\n",
       "      <td>0.0</td>\n",
       "      <td>0.0</td>\n",
       "      <td>0.0</td>\n",
       "      <td>0.0</td>\n",
       "      <td>0.0</td>\n",
       "      <td>1.0</td>\n",
       "    </tr>\n",
       "    <tr>\n",
       "      <th>2</th>\n",
       "      <td>64.0</td>\n",
       "      <td>2.0</td>\n",
       "      <td>0.0</td>\n",
       "      <td>NaN</td>\n",
       "      <td>NaN</td>\n",
       "      <td>2.0</td>\n",
       "      <td>NaN</td>\n",
       "      <td>2.0</td>\n",
       "      <td>0.0</td>\n",
       "      <td>1.0</td>\n",
       "      <td>0.0</td>\n",
       "      <td>0.0</td>\n",
       "      <td>0.0</td>\n",
       "      <td>0.0</td>\n",
       "      <td>0.0</td>\n",
       "      <td>...</td>\n",
       "      <td>1.0</td>\n",
       "      <td>0.0</td>\n",
       "      <td>3.0</td>\n",
       "      <td>7.0</td>\n",
       "      <td>2.0</td>\n",
       "      <td>4.0</td>\n",
       "      <td>0.0</td>\n",
       "      <td>3.0</td>\n",
       "      <td>2.0</td>\n",
       "      <td>0.0</td>\n",
       "      <td>0.0</td>\n",
       "      <td>1.0</td>\n",
       "      <td>0.0</td>\n",
       "      <td>0.0</td>\n",
       "      <td>0.0</td>\n",
       "    </tr>\n",
       "    <tr>\n",
       "      <th>3</th>\n",
       "      <td>74.0</td>\n",
       "      <td>1.0</td>\n",
       "      <td>1.0</td>\n",
       "      <td>6.0</td>\n",
       "      <td>2.0</td>\n",
       "      <td>2.0</td>\n",
       "      <td>NaN</td>\n",
       "      <td>2.0</td>\n",
       "      <td>0.0</td>\n",
       "      <td>NaN</td>\n",
       "      <td>NaN</td>\n",
       "      <td>0.0</td>\n",
       "      <td>0.0</td>\n",
       "      <td>0.0</td>\n",
       "      <td>0.0</td>\n",
       "      <td>...</td>\n",
       "      <td>0.0</td>\n",
       "      <td>0.0</td>\n",
       "      <td>0.0</td>\n",
       "      <td>2.0</td>\n",
       "      <td>0.0</td>\n",
       "      <td>4.0</td>\n",
       "      <td>0.0</td>\n",
       "      <td>3.0</td>\n",
       "      <td>3.0</td>\n",
       "      <td>0.0</td>\n",
       "      <td>0.0</td>\n",
       "      <td>0.0</td>\n",
       "      <td>0.0</td>\n",
       "      <td>0.0</td>\n",
       "      <td>0.0</td>\n",
       "    </tr>\n",
       "    <tr>\n",
       "      <th>4</th>\n",
       "      <td>74.0</td>\n",
       "      <td>2.0</td>\n",
       "      <td>0.0</td>\n",
       "      <td>6.0</td>\n",
       "      <td>2.0</td>\n",
       "      <td>0.0</td>\n",
       "      <td>NaN</td>\n",
       "      <td>3.0</td>\n",
       "      <td>0.0</td>\n",
       "      <td>7.0</td>\n",
       "      <td>0.0</td>\n",
       "      <td>0.0</td>\n",
       "      <td>0.0</td>\n",
       "      <td>0.0</td>\n",
       "      <td>0.0</td>\n",
       "      <td>...</td>\n",
       "      <td>0.0</td>\n",
       "      <td>0.0</td>\n",
       "      <td>1.0</td>\n",
       "      <td>8.0</td>\n",
       "      <td>0.0</td>\n",
       "      <td>6.0</td>\n",
       "      <td>0.0</td>\n",
       "      <td>5.0</td>\n",
       "      <td>4.0</td>\n",
       "      <td>0.0</td>\n",
       "      <td>0.0</td>\n",
       "      <td>1.0</td>\n",
       "      <td>0.0</td>\n",
       "      <td>0.0</td>\n",
       "      <td>0.0</td>\n",
       "    </tr>\n",
       "    <tr>\n",
       "      <th>995</th>\n",
       "      <td>86.0</td>\n",
       "      <td>4.0</td>\n",
       "      <td>0.0</td>\n",
       "      <td>0.0</td>\n",
       "      <td>0.0</td>\n",
       "      <td>0.0</td>\n",
       "      <td>NaN</td>\n",
       "      <td>2.0</td>\n",
       "      <td>0.0</td>\n",
       "      <td>NaN</td>\n",
       "      <td>0.0</td>\n",
       "      <td>0.0</td>\n",
       "      <td>0.0</td>\n",
       "      <td>0.0</td>\n",
       "      <td>0.0</td>\n",
       "      <td>...</td>\n",
       "      <td>NaN</td>\n",
       "      <td>0.0</td>\n",
       "      <td>0.0</td>\n",
       "      <td>5.0</td>\n",
       "      <td>3.0</td>\n",
       "      <td>2.0</td>\n",
       "      <td>0.0</td>\n",
       "      <td>0.0</td>\n",
       "      <td>0.0</td>\n",
       "      <td>0.0</td>\n",
       "      <td>0.0</td>\n",
       "      <td>1.0</td>\n",
       "      <td>0.0</td>\n",
       "      <td>0.0</td>\n",
       "      <td>0.0</td>\n",
       "    </tr>\n",
       "    <tr>\n",
       "      <th>996</th>\n",
       "      <td>91.0</td>\n",
       "      <td>3.0</td>\n",
       "      <td>0.0</td>\n",
       "      <td>0.0</td>\n",
       "      <td>0.0</td>\n",
       "      <td>0.0</td>\n",
       "      <td>NaN</td>\n",
       "      <td>2.0</td>\n",
       "      <td>0.0</td>\n",
       "      <td>7.0</td>\n",
       "      <td>0.0</td>\n",
       "      <td>0.0</td>\n",
       "      <td>0.0</td>\n",
       "      <td>0.0</td>\n",
       "      <td>0.0</td>\n",
       "      <td>...</td>\n",
       "      <td>NaN</td>\n",
       "      <td>0.0</td>\n",
       "      <td>0.0</td>\n",
       "      <td>3.0</td>\n",
       "      <td>NaN</td>\n",
       "      <td>5.0</td>\n",
       "      <td>0.0</td>\n",
       "      <td>NaN</td>\n",
       "      <td>3.0</td>\n",
       "      <td>0.0</td>\n",
       "      <td>0.0</td>\n",
       "      <td>0.0</td>\n",
       "      <td>0.0</td>\n",
       "      <td>0.0</td>\n",
       "      <td>0.0</td>\n",
       "    </tr>\n",
       "    <tr>\n",
       "      <th>997</th>\n",
       "      <td>46.0</td>\n",
       "      <td>4.0</td>\n",
       "      <td>0.0</td>\n",
       "      <td>0.0</td>\n",
       "      <td>2.0</td>\n",
       "      <td>2.0</td>\n",
       "      <td>NaN</td>\n",
       "      <td>0.0</td>\n",
       "      <td>0.0</td>\n",
       "      <td>0.0</td>\n",
       "      <td>0.0</td>\n",
       "      <td>0.0</td>\n",
       "      <td>0.0</td>\n",
       "      <td>0.0</td>\n",
       "      <td>0.0</td>\n",
       "      <td>...</td>\n",
       "      <td>0.0</td>\n",
       "      <td>0.0</td>\n",
       "      <td>0.0</td>\n",
       "      <td>3.0</td>\n",
       "      <td>2.0</td>\n",
       "      <td>5.0</td>\n",
       "      <td>0.0</td>\n",
       "      <td>1.0</td>\n",
       "      <td>5.0</td>\n",
       "      <td>1.0</td>\n",
       "      <td>1.0</td>\n",
       "      <td>1.0</td>\n",
       "      <td>1.0</td>\n",
       "      <td>0.0</td>\n",
       "      <td>0.0</td>\n",
       "    </tr>\n",
       "    <tr>\n",
       "      <th>998</th>\n",
       "      <td>70.0</td>\n",
       "      <td>2.0</td>\n",
       "      <td>1.0</td>\n",
       "      <td>2.0</td>\n",
       "      <td>2.0</td>\n",
       "      <td>1.0</td>\n",
       "      <td>NaN</td>\n",
       "      <td>0.0</td>\n",
       "      <td>0.0</td>\n",
       "      <td>0.0</td>\n",
       "      <td>0.0</td>\n",
       "      <td>0.0</td>\n",
       "      <td>0.0</td>\n",
       "      <td>0.0</td>\n",
       "      <td>0.0</td>\n",
       "      <td>...</td>\n",
       "      <td>NaN</td>\n",
       "      <td>0.0</td>\n",
       "      <td>0.0</td>\n",
       "      <td>5.0</td>\n",
       "      <td>2.0</td>\n",
       "      <td>4.0</td>\n",
       "      <td>0.0</td>\n",
       "      <td>2.0</td>\n",
       "      <td>3.0</td>\n",
       "      <td>0.0</td>\n",
       "      <td>1.0</td>\n",
       "      <td>0.0</td>\n",
       "      <td>0.0</td>\n",
       "      <td>0.0</td>\n",
       "      <td>0.0</td>\n",
       "    </tr>\n",
       "    <tr>\n",
       "      <th>999</th>\n",
       "      <td>60.0</td>\n",
       "      <td>2.0</td>\n",
       "      <td>0.0</td>\n",
       "      <td>0.0</td>\n",
       "      <td>0.0</td>\n",
       "      <td>2.0</td>\n",
       "      <td>NaN</td>\n",
       "      <td>0.0</td>\n",
       "      <td>0.0</td>\n",
       "      <td>0.0</td>\n",
       "      <td>0.0</td>\n",
       "      <td>0.0</td>\n",
       "      <td>0.0</td>\n",
       "      <td>0.0</td>\n",
       "      <td>0.0</td>\n",
       "      <td>...</td>\n",
       "      <td>1.0</td>\n",
       "      <td>0.0</td>\n",
       "      <td>0.0</td>\n",
       "      <td>2.0</td>\n",
       "      <td>2.0</td>\n",
       "      <td>5.0</td>\n",
       "      <td>0.0</td>\n",
       "      <td>2.0</td>\n",
       "      <td>3.0</td>\n",
       "      <td>0.0</td>\n",
       "      <td>1.0</td>\n",
       "      <td>0.0</td>\n",
       "      <td>0.0</td>\n",
       "      <td>0.0</td>\n",
       "      <td>0.0</td>\n",
       "    </tr>\n",
       "  </tbody>\n",
       "</table>\n",
       "<p>10 rows × 111 columns</p>\n",
       "</div>"
      ],
      "text/plain": [
       "      x_0  x_1  x_2  x_3  x_4  x_5  x_6  x_7  x_8  x_9  x_10  x_11  x_12  \\\n",
       "0    57.0  5.0  0.0  0.0  0.0  2.0  NaN  2.0  0.0  NaN   0.0   0.0   0.0   \n",
       "1    71.0  2.0  2.0  NaN  NaN  2.0  NaN  3.0  0.0  7.0   4.0   0.0   0.0   \n",
       "2    64.0  2.0  0.0  NaN  NaN  2.0  NaN  2.0  0.0  1.0   0.0   0.0   0.0   \n",
       "3    74.0  1.0  1.0  6.0  2.0  2.0  NaN  2.0  0.0  NaN   NaN   0.0   0.0   \n",
       "4    74.0  2.0  0.0  6.0  2.0  0.0  NaN  3.0  0.0  7.0   0.0   0.0   0.0   \n",
       "995  86.0  4.0  0.0  0.0  0.0  0.0  NaN  2.0  0.0  NaN   0.0   0.0   0.0   \n",
       "996  91.0  3.0  0.0  0.0  0.0  0.0  NaN  2.0  0.0  7.0   0.0   0.0   0.0   \n",
       "997  46.0  4.0  0.0  0.0  2.0  2.0  NaN  0.0  0.0  0.0   0.0   0.0   0.0   \n",
       "998  70.0  2.0  1.0  2.0  2.0  1.0  NaN  0.0  0.0  0.0   0.0   0.0   0.0   \n",
       "999  60.0  2.0  0.0  0.0  0.0  2.0  NaN  0.0  0.0  0.0   0.0   0.0   0.0   \n",
       "\n",
       "     x_13  x_14  ...  x_96  x_97  x_98  x_99  x_100  x_101  x_102  x_103  \\\n",
       "0     0.0   0.0  ...   NaN   0.0   0.0   1.0    3.0    3.0    0.0    0.0   \n",
       "1     0.0   0.0  ...   0.0   1.0   1.0   NaN    NaN    5.0    NaN    NaN   \n",
       "2     0.0   0.0  ...   1.0   0.0   3.0   7.0    2.0    4.0    0.0    3.0   \n",
       "3     0.0   0.0  ...   0.0   0.0   0.0   2.0    0.0    4.0    0.0    3.0   \n",
       "4     0.0   0.0  ...   0.0   0.0   1.0   8.0    0.0    6.0    0.0    5.0   \n",
       "995   0.0   0.0  ...   NaN   0.0   0.0   5.0    3.0    2.0    0.0    0.0   \n",
       "996   0.0   0.0  ...   NaN   0.0   0.0   3.0    NaN    5.0    0.0    NaN   \n",
       "997   0.0   0.0  ...   0.0   0.0   0.0   3.0    2.0    5.0    0.0    1.0   \n",
       "998   0.0   0.0  ...   NaN   0.0   0.0   5.0    2.0    4.0    0.0    2.0   \n",
       "999   0.0   0.0  ...   1.0   0.0   0.0   2.0    2.0    5.0    0.0    2.0   \n",
       "\n",
       "     x_104  x_105  x_106  x_107  x_108  x_109  x_110  \n",
       "0      3.0    0.0    0.0    0.0    0.0    0.0    0.0  \n",
       "1      4.0    0.0    0.0    0.0    0.0    0.0    1.0  \n",
       "2      2.0    0.0    0.0    1.0    0.0    0.0    0.0  \n",
       "3      3.0    0.0    0.0    0.0    0.0    0.0    0.0  \n",
       "4      4.0    0.0    0.0    1.0    0.0    0.0    0.0  \n",
       "995    0.0    0.0    0.0    1.0    0.0    0.0    0.0  \n",
       "996    3.0    0.0    0.0    0.0    0.0    0.0    0.0  \n",
       "997    5.0    1.0    1.0    1.0    1.0    0.0    0.0  \n",
       "998    3.0    0.0    1.0    0.0    0.0    0.0    0.0  \n",
       "999    3.0    0.0    1.0    0.0    0.0    0.0    0.0  \n",
       "\n",
       "[10 rows x 111 columns]"
      ]
     },
     "execution_count": 2,
     "metadata": {},
     "output_type": "execute_result"
    }
   ],
   "source": [
    "train_x = pd.DataFrame(train_x).rename(columns={i: f\"x_{i}\" for i in range(111)})\n",
    "train_y = pd.DataFrame(train_y).rename(columns={i: f\"y_{i}\" for i in range(11)})\n",
    "\n",
    "\n",
    "test_x = pd.DataFrame(test_x).rename(columns={i: f\"x_{i}\" for i in range(111)})\n",
    "pd.concat([train_x.head(), train_x.tail()])"
   ]
  },
  {
   "cell_type": "code",
   "execution_count": 3,
   "metadata": {},
   "outputs": [
    {
     "data": {
      "text/html": [
       "<div>\n",
       "<style scoped>\n",
       "    .dataframe tbody tr th:only-of-type {\n",
       "        vertical-align: middle;\n",
       "    }\n",
       "\n",
       "    .dataframe tbody tr th {\n",
       "        vertical-align: top;\n",
       "    }\n",
       "\n",
       "    .dataframe thead th {\n",
       "        text-align: right;\n",
       "    }\n",
       "</style>\n",
       "<table border=\"1\" class=\"dataframe\">\n",
       "  <thead>\n",
       "    <tr style=\"text-align: right;\">\n",
       "      <th></th>\n",
       "      <th>y_0</th>\n",
       "      <th>y_1</th>\n",
       "      <th>y_2</th>\n",
       "      <th>y_3</th>\n",
       "      <th>y_4</th>\n",
       "      <th>y_5</th>\n",
       "      <th>y_6</th>\n",
       "      <th>y_7</th>\n",
       "      <th>y_8</th>\n",
       "      <th>y_9</th>\n",
       "      <th>y_10</th>\n",
       "    </tr>\n",
       "  </thead>\n",
       "  <tbody>\n",
       "    <tr>\n",
       "      <th>0</th>\n",
       "      <td>1</td>\n",
       "      <td>0</td>\n",
       "      <td>0</td>\n",
       "      <td>0</td>\n",
       "      <td>0</td>\n",
       "      <td>0</td>\n",
       "      <td>0</td>\n",
       "      <td>0</td>\n",
       "      <td>0</td>\n",
       "      <td>0</td>\n",
       "      <td>0</td>\n",
       "    </tr>\n",
       "    <tr>\n",
       "      <th>1</th>\n",
       "      <td>0</td>\n",
       "      <td>0</td>\n",
       "      <td>0</td>\n",
       "      <td>1</td>\n",
       "      <td>1</td>\n",
       "      <td>1</td>\n",
       "      <td>1</td>\n",
       "      <td>0</td>\n",
       "      <td>0</td>\n",
       "      <td>0</td>\n",
       "      <td>0</td>\n",
       "    </tr>\n",
       "    <tr>\n",
       "      <th>2</th>\n",
       "      <td>1</td>\n",
       "      <td>0</td>\n",
       "      <td>0</td>\n",
       "      <td>0</td>\n",
       "      <td>0</td>\n",
       "      <td>0</td>\n",
       "      <td>0</td>\n",
       "      <td>0</td>\n",
       "      <td>0</td>\n",
       "      <td>0</td>\n",
       "      <td>0</td>\n",
       "    </tr>\n",
       "    <tr>\n",
       "      <th>3</th>\n",
       "      <td>0</td>\n",
       "      <td>0</td>\n",
       "      <td>0</td>\n",
       "      <td>0</td>\n",
       "      <td>0</td>\n",
       "      <td>0</td>\n",
       "      <td>0</td>\n",
       "      <td>1</td>\n",
       "      <td>1</td>\n",
       "      <td>1</td>\n",
       "      <td>1</td>\n",
       "    </tr>\n",
       "    <tr>\n",
       "      <th>4</th>\n",
       "      <td>0</td>\n",
       "      <td>0</td>\n",
       "      <td>0</td>\n",
       "      <td>0</td>\n",
       "      <td>0</td>\n",
       "      <td>0</td>\n",
       "      <td>0</td>\n",
       "      <td>0</td>\n",
       "      <td>0</td>\n",
       "      <td>1</td>\n",
       "      <td>0</td>\n",
       "    </tr>\n",
       "    <tr>\n",
       "      <th>...</th>\n",
       "      <td>...</td>\n",
       "      <td>...</td>\n",
       "      <td>...</td>\n",
       "      <td>...</td>\n",
       "      <td>...</td>\n",
       "      <td>...</td>\n",
       "      <td>...</td>\n",
       "      <td>...</td>\n",
       "      <td>...</td>\n",
       "      <td>...</td>\n",
       "      <td>...</td>\n",
       "    </tr>\n",
       "    <tr>\n",
       "      <th>995</th>\n",
       "      <td>1</td>\n",
       "      <td>0</td>\n",
       "      <td>0</td>\n",
       "      <td>1</td>\n",
       "      <td>0</td>\n",
       "      <td>0</td>\n",
       "      <td>1</td>\n",
       "      <td>0</td>\n",
       "      <td>0</td>\n",
       "      <td>0</td>\n",
       "      <td>0</td>\n",
       "    </tr>\n",
       "    <tr>\n",
       "      <th>996</th>\n",
       "      <td>0</td>\n",
       "      <td>0</td>\n",
       "      <td>0</td>\n",
       "      <td>0</td>\n",
       "      <td>1</td>\n",
       "      <td>0</td>\n",
       "      <td>1</td>\n",
       "      <td>0</td>\n",
       "      <td>0</td>\n",
       "      <td>1</td>\n",
       "      <td>1</td>\n",
       "    </tr>\n",
       "    <tr>\n",
       "      <th>997</th>\n",
       "      <td>0</td>\n",
       "      <td>1</td>\n",
       "      <td>0</td>\n",
       "      <td>1</td>\n",
       "      <td>1</td>\n",
       "      <td>0</td>\n",
       "      <td>0</td>\n",
       "      <td>1</td>\n",
       "      <td>1</td>\n",
       "      <td>0</td>\n",
       "      <td>1</td>\n",
       "    </tr>\n",
       "    <tr>\n",
       "      <th>998</th>\n",
       "      <td>0</td>\n",
       "      <td>1</td>\n",
       "      <td>0</td>\n",
       "      <td>1</td>\n",
       "      <td>1</td>\n",
       "      <td>0</td>\n",
       "      <td>0</td>\n",
       "      <td>0</td>\n",
       "      <td>0</td>\n",
       "      <td>0</td>\n",
       "      <td>0</td>\n",
       "    </tr>\n",
       "    <tr>\n",
       "      <th>999</th>\n",
       "      <td>1</td>\n",
       "      <td>0</td>\n",
       "      <td>0</td>\n",
       "      <td>0</td>\n",
       "      <td>0</td>\n",
       "      <td>1</td>\n",
       "      <td>0</td>\n",
       "      <td>0</td>\n",
       "      <td>0</td>\n",
       "      <td>1</td>\n",
       "      <td>1</td>\n",
       "    </tr>\n",
       "  </tbody>\n",
       "</table>\n",
       "<p>1000 rows × 11 columns</p>\n",
       "</div>"
      ],
      "text/plain": [
       "     y_0  y_1  y_2  y_3  y_4  y_5  y_6  y_7  y_8  y_9  y_10\n",
       "0      1    0    0    0    0    0    0    0    0    0     0\n",
       "1      0    0    0    1    1    1    1    0    0    0     0\n",
       "2      1    0    0    0    0    0    0    0    0    0     0\n",
       "3      0    0    0    0    0    0    0    1    1    1     1\n",
       "4      0    0    0    0    0    0    0    0    0    1     0\n",
       "..   ...  ...  ...  ...  ...  ...  ...  ...  ...  ...   ...\n",
       "995    1    0    0    1    0    0    1    0    0    0     0\n",
       "996    0    0    0    0    1    0    1    0    0    1     1\n",
       "997    0    1    0    1    1    0    0    1    1    0     1\n",
       "998    0    1    0    1    1    0    0    0    0    0     0\n",
       "999    1    0    0    0    0    1    0    0    0    1     1\n",
       "\n",
       "[1000 rows x 11 columns]"
      ]
     },
     "execution_count": 3,
     "metadata": {},
     "output_type": "execute_result"
    }
   ],
   "source": [
    "train_y"
   ]
  },
  {
   "cell_type": "code",
   "execution_count": 4,
   "metadata": {},
   "outputs": [
    {
     "data": {
      "text/html": [
       "<div>\n",
       "<style scoped>\n",
       "    .dataframe tbody tr th:only-of-type {\n",
       "        vertical-align: middle;\n",
       "    }\n",
       "\n",
       "    .dataframe tbody tr th {\n",
       "        vertical-align: top;\n",
       "    }\n",
       "\n",
       "    .dataframe thead th {\n",
       "        text-align: right;\n",
       "    }\n",
       "</style>\n",
       "<table border=\"1\" class=\"dataframe\">\n",
       "  <thead>\n",
       "    <tr style=\"text-align: right;\">\n",
       "      <th></th>\n",
       "      <th>x_0</th>\n",
       "      <th>x_1</th>\n",
       "      <th>x_2</th>\n",
       "      <th>x_3</th>\n",
       "      <th>x_4</th>\n",
       "      <th>x_5</th>\n",
       "      <th>x_6</th>\n",
       "      <th>x_7</th>\n",
       "      <th>x_8</th>\n",
       "      <th>x_9</th>\n",
       "      <th>x_10</th>\n",
       "      <th>x_11</th>\n",
       "      <th>x_12</th>\n",
       "      <th>x_13</th>\n",
       "      <th>x_14</th>\n",
       "      <th>...</th>\n",
       "      <th>x_96</th>\n",
       "      <th>x_97</th>\n",
       "      <th>x_98</th>\n",
       "      <th>x_99</th>\n",
       "      <th>x_100</th>\n",
       "      <th>x_101</th>\n",
       "      <th>x_102</th>\n",
       "      <th>x_103</th>\n",
       "      <th>x_104</th>\n",
       "      <th>x_105</th>\n",
       "      <th>x_106</th>\n",
       "      <th>x_107</th>\n",
       "      <th>x_108</th>\n",
       "      <th>x_109</th>\n",
       "      <th>x_110</th>\n",
       "    </tr>\n",
       "  </thead>\n",
       "  <tbody>\n",
       "    <tr>\n",
       "      <th>count</th>\n",
       "      <td>995.000000</td>\n",
       "      <td>1000.000000</td>\n",
       "      <td>998.000000</td>\n",
       "      <td>933.000000</td>\n",
       "      <td>954.000000</td>\n",
       "      <td>966.000000</td>\n",
       "      <td>37.0</td>\n",
       "      <td>995.000000</td>\n",
       "      <td>996.000000</td>\n",
       "      <td>847.000000</td>\n",
       "      <td>966.000000</td>\n",
       "      <td>984.000000</td>\n",
       "      <td>984.0</td>\n",
       "      <td>984.000000</td>\n",
       "      <td>984.000000</td>\n",
       "      <td>...</td>\n",
       "      <td>618.000000</td>\n",
       "      <td>997.000000</td>\n",
       "      <td>997.000000</td>\n",
       "      <td>932.000000</td>\n",
       "      <td>918.000000</td>\n",
       "      <td>993.000000</td>\n",
       "      <td>931.000000</td>\n",
       "      <td>919.000000</td>\n",
       "      <td>995.000000</td>\n",
       "      <td>996.000000</td>\n",
       "      <td>995.000000</td>\n",
       "      <td>992.000000</td>\n",
       "      <td>992.000000</td>\n",
       "      <td>993.000000</td>\n",
       "      <td>993.000000</td>\n",
       "    </tr>\n",
       "    <tr>\n",
       "      <th>mean</th>\n",
       "      <td>65.179899</td>\n",
       "      <td>3.657000</td>\n",
       "      <td>0.444890</td>\n",
       "      <td>2.260450</td>\n",
       "      <td>1.190776</td>\n",
       "      <td>1.083851</td>\n",
       "      <td>0.0</td>\n",
       "      <td>1.413065</td>\n",
       "      <td>0.026104</td>\n",
       "      <td>3.341204</td>\n",
       "      <td>0.166667</td>\n",
       "      <td>0.006098</td>\n",
       "      <td>0.0</td>\n",
       "      <td>0.006098</td>\n",
       "      <td>0.013211</td>\n",
       "      <td>...</td>\n",
       "      <td>0.231392</td>\n",
       "      <td>0.066199</td>\n",
       "      <td>0.396189</td>\n",
       "      <td>3.084764</td>\n",
       "      <td>3.037037</td>\n",
       "      <td>3.290030</td>\n",
       "      <td>0.068743</td>\n",
       "      <td>2.968444</td>\n",
       "      <td>3.290452</td>\n",
       "      <td>0.072289</td>\n",
       "      <td>0.407035</td>\n",
       "      <td>0.428427</td>\n",
       "      <td>0.444556</td>\n",
       "      <td>0.011078</td>\n",
       "      <td>0.125881</td>\n",
       "    </tr>\n",
       "    <tr>\n",
       "      <th>std</th>\n",
       "      <td>11.492400</td>\n",
       "      <td>1.825564</td>\n",
       "      <td>0.816375</td>\n",
       "      <td>2.479035</td>\n",
       "      <td>1.053291</td>\n",
       "      <td>0.872260</td>\n",
       "      <td>0.0</td>\n",
       "      <td>1.083640</td>\n",
       "      <td>0.159526</td>\n",
       "      <td>3.121343</td>\n",
       "      <td>0.634228</td>\n",
       "      <td>0.077888</td>\n",
       "      <td>0.0</td>\n",
       "      <td>0.077888</td>\n",
       "      <td>0.114237</td>\n",
       "      <td>...</td>\n",
       "      <td>0.422064</td>\n",
       "      <td>0.248754</td>\n",
       "      <td>0.777769</td>\n",
       "      <td>1.782570</td>\n",
       "      <td>1.702760</td>\n",
       "      <td>1.827344</td>\n",
       "      <td>0.364560</td>\n",
       "      <td>1.758293</td>\n",
       "      <td>1.872994</td>\n",
       "      <td>0.259096</td>\n",
       "      <td>0.491529</td>\n",
       "      <td>0.495100</td>\n",
       "      <td>0.497167</td>\n",
       "      <td>0.104718</td>\n",
       "      <td>0.331883</td>\n",
       "    </tr>\n",
       "    <tr>\n",
       "      <th>min</th>\n",
       "      <td>34.000000</td>\n",
       "      <td>0.000000</td>\n",
       "      <td>0.000000</td>\n",
       "      <td>0.000000</td>\n",
       "      <td>0.000000</td>\n",
       "      <td>0.000000</td>\n",
       "      <td>0.0</td>\n",
       "      <td>0.000000</td>\n",
       "      <td>0.000000</td>\n",
       "      <td>0.000000</td>\n",
       "      <td>0.000000</td>\n",
       "      <td>0.000000</td>\n",
       "      <td>0.0</td>\n",
       "      <td>0.000000</td>\n",
       "      <td>0.000000</td>\n",
       "      <td>...</td>\n",
       "      <td>0.000000</td>\n",
       "      <td>0.000000</td>\n",
       "      <td>0.000000</td>\n",
       "      <td>0.000000</td>\n",
       "      <td>0.000000</td>\n",
       "      <td>0.000000</td>\n",
       "      <td>0.000000</td>\n",
       "      <td>0.000000</td>\n",
       "      <td>0.000000</td>\n",
       "      <td>0.000000</td>\n",
       "      <td>0.000000</td>\n",
       "      <td>0.000000</td>\n",
       "      <td>0.000000</td>\n",
       "      <td>0.000000</td>\n",
       "      <td>0.000000</td>\n",
       "    </tr>\n",
       "    <tr>\n",
       "      <th>25%</th>\n",
       "      <td>57.000000</td>\n",
       "      <td>2.000000</td>\n",
       "      <td>0.000000</td>\n",
       "      <td>0.000000</td>\n",
       "      <td>0.000000</td>\n",
       "      <td>0.000000</td>\n",
       "      <td>0.0</td>\n",
       "      <td>0.000000</td>\n",
       "      <td>0.000000</td>\n",
       "      <td>0.000000</td>\n",
       "      <td>0.000000</td>\n",
       "      <td>0.000000</td>\n",
       "      <td>0.0</td>\n",
       "      <td>0.000000</td>\n",
       "      <td>0.000000</td>\n",
       "      <td>...</td>\n",
       "      <td>0.000000</td>\n",
       "      <td>0.000000</td>\n",
       "      <td>0.000000</td>\n",
       "      <td>2.000000</td>\n",
       "      <td>2.000000</td>\n",
       "      <td>2.000000</td>\n",
       "      <td>0.000000</td>\n",
       "      <td>2.000000</td>\n",
       "      <td>2.000000</td>\n",
       "      <td>0.000000</td>\n",
       "      <td>0.000000</td>\n",
       "      <td>0.000000</td>\n",
       "      <td>0.000000</td>\n",
       "      <td>0.000000</td>\n",
       "      <td>0.000000</td>\n",
       "    </tr>\n",
       "    <tr>\n",
       "      <th>50%</th>\n",
       "      <td>66.000000</td>\n",
       "      <td>3.000000</td>\n",
       "      <td>0.000000</td>\n",
       "      <td>1.000000</td>\n",
       "      <td>2.000000</td>\n",
       "      <td>1.000000</td>\n",
       "      <td>0.0</td>\n",
       "      <td>2.000000</td>\n",
       "      <td>0.000000</td>\n",
       "      <td>3.000000</td>\n",
       "      <td>0.000000</td>\n",
       "      <td>0.000000</td>\n",
       "      <td>0.0</td>\n",
       "      <td>0.000000</td>\n",
       "      <td>0.000000</td>\n",
       "      <td>...</td>\n",
       "      <td>0.000000</td>\n",
       "      <td>0.000000</td>\n",
       "      <td>0.000000</td>\n",
       "      <td>3.000000</td>\n",
       "      <td>3.000000</td>\n",
       "      <td>3.000000</td>\n",
       "      <td>0.000000</td>\n",
       "      <td>3.000000</td>\n",
       "      <td>3.000000</td>\n",
       "      <td>0.000000</td>\n",
       "      <td>0.000000</td>\n",
       "      <td>0.000000</td>\n",
       "      <td>0.000000</td>\n",
       "      <td>0.000000</td>\n",
       "      <td>0.000000</td>\n",
       "    </tr>\n",
       "    <tr>\n",
       "      <th>75%</th>\n",
       "      <td>73.000000</td>\n",
       "      <td>5.000000</td>\n",
       "      <td>1.000000</td>\n",
       "      <td>5.000000</td>\n",
       "      <td>2.000000</td>\n",
       "      <td>2.000000</td>\n",
       "      <td>0.0</td>\n",
       "      <td>2.000000</td>\n",
       "      <td>0.000000</td>\n",
       "      <td>7.000000</td>\n",
       "      <td>0.000000</td>\n",
       "      <td>0.000000</td>\n",
       "      <td>0.0</td>\n",
       "      <td>0.000000</td>\n",
       "      <td>0.000000</td>\n",
       "      <td>...</td>\n",
       "      <td>0.000000</td>\n",
       "      <td>0.000000</td>\n",
       "      <td>1.000000</td>\n",
       "      <td>4.000000</td>\n",
       "      <td>4.000000</td>\n",
       "      <td>4.000000</td>\n",
       "      <td>0.000000</td>\n",
       "      <td>4.000000</td>\n",
       "      <td>4.000000</td>\n",
       "      <td>0.000000</td>\n",
       "      <td>1.000000</td>\n",
       "      <td>1.000000</td>\n",
       "      <td>1.000000</td>\n",
       "      <td>0.000000</td>\n",
       "      <td>0.000000</td>\n",
       "    </tr>\n",
       "    <tr>\n",
       "      <th>max</th>\n",
       "      <td>97.000000</td>\n",
       "      <td>13.000000</td>\n",
       "      <td>3.000000</td>\n",
       "      <td>6.000000</td>\n",
       "      <td>4.000000</td>\n",
       "      <td>2.000000</td>\n",
       "      <td>0.0</td>\n",
       "      <td>3.000000</td>\n",
       "      <td>1.000000</td>\n",
       "      <td>7.000000</td>\n",
       "      <td>4.000000</td>\n",
       "      <td>1.000000</td>\n",
       "      <td>0.0</td>\n",
       "      <td>1.000000</td>\n",
       "      <td>1.000000</td>\n",
       "      <td>...</td>\n",
       "      <td>1.000000</td>\n",
       "      <td>1.000000</td>\n",
       "      <td>4.000000</td>\n",
       "      <td>10.000000</td>\n",
       "      <td>11.000000</td>\n",
       "      <td>10.000000</td>\n",
       "      <td>3.000000</td>\n",
       "      <td>9.000000</td>\n",
       "      <td>10.000000</td>\n",
       "      <td>1.000000</td>\n",
       "      <td>1.000000</td>\n",
       "      <td>1.000000</td>\n",
       "      <td>1.000000</td>\n",
       "      <td>1.000000</td>\n",
       "      <td>1.000000</td>\n",
       "    </tr>\n",
       "  </tbody>\n",
       "</table>\n",
       "<p>8 rows × 111 columns</p>\n",
       "</div>"
      ],
      "text/plain": [
       "              x_0          x_1         x_2         x_3         x_4  \\\n",
       "count  995.000000  1000.000000  998.000000  933.000000  954.000000   \n",
       "mean    65.179899     3.657000    0.444890    2.260450    1.190776   \n",
       "std     11.492400     1.825564    0.816375    2.479035    1.053291   \n",
       "min     34.000000     0.000000    0.000000    0.000000    0.000000   \n",
       "25%     57.000000     2.000000    0.000000    0.000000    0.000000   \n",
       "50%     66.000000     3.000000    0.000000    1.000000    2.000000   \n",
       "75%     73.000000     5.000000    1.000000    5.000000    2.000000   \n",
       "max     97.000000    13.000000    3.000000    6.000000    4.000000   \n",
       "\n",
       "              x_5   x_6         x_7         x_8         x_9        x_10  \\\n",
       "count  966.000000  37.0  995.000000  996.000000  847.000000  966.000000   \n",
       "mean     1.083851   0.0    1.413065    0.026104    3.341204    0.166667   \n",
       "std      0.872260   0.0    1.083640    0.159526    3.121343    0.634228   \n",
       "min      0.000000   0.0    0.000000    0.000000    0.000000    0.000000   \n",
       "25%      0.000000   0.0    0.000000    0.000000    0.000000    0.000000   \n",
       "50%      1.000000   0.0    2.000000    0.000000    3.000000    0.000000   \n",
       "75%      2.000000   0.0    2.000000    0.000000    7.000000    0.000000   \n",
       "max      2.000000   0.0    3.000000    1.000000    7.000000    4.000000   \n",
       "\n",
       "             x_11   x_12        x_13        x_14  ...        x_96        x_97  \\\n",
       "count  984.000000  984.0  984.000000  984.000000  ...  618.000000  997.000000   \n",
       "mean     0.006098    0.0    0.006098    0.013211  ...    0.231392    0.066199   \n",
       "std      0.077888    0.0    0.077888    0.114237  ...    0.422064    0.248754   \n",
       "min      0.000000    0.0    0.000000    0.000000  ...    0.000000    0.000000   \n",
       "25%      0.000000    0.0    0.000000    0.000000  ...    0.000000    0.000000   \n",
       "50%      0.000000    0.0    0.000000    0.000000  ...    0.000000    0.000000   \n",
       "75%      0.000000    0.0    0.000000    0.000000  ...    0.000000    0.000000   \n",
       "max      1.000000    0.0    1.000000    1.000000  ...    1.000000    1.000000   \n",
       "\n",
       "             x_98        x_99       x_100       x_101       x_102       x_103  \\\n",
       "count  997.000000  932.000000  918.000000  993.000000  931.000000  919.000000   \n",
       "mean     0.396189    3.084764    3.037037    3.290030    0.068743    2.968444   \n",
       "std      0.777769    1.782570    1.702760    1.827344    0.364560    1.758293   \n",
       "min      0.000000    0.000000    0.000000    0.000000    0.000000    0.000000   \n",
       "25%      0.000000    2.000000    2.000000    2.000000    0.000000    2.000000   \n",
       "50%      0.000000    3.000000    3.000000    3.000000    0.000000    3.000000   \n",
       "75%      1.000000    4.000000    4.000000    4.000000    0.000000    4.000000   \n",
       "max      4.000000   10.000000   11.000000   10.000000    3.000000    9.000000   \n",
       "\n",
       "            x_104       x_105       x_106       x_107       x_108       x_109  \\\n",
       "count  995.000000  996.000000  995.000000  992.000000  992.000000  993.000000   \n",
       "mean     3.290452    0.072289    0.407035    0.428427    0.444556    0.011078   \n",
       "std      1.872994    0.259096    0.491529    0.495100    0.497167    0.104718   \n",
       "min      0.000000    0.000000    0.000000    0.000000    0.000000    0.000000   \n",
       "25%      2.000000    0.000000    0.000000    0.000000    0.000000    0.000000   \n",
       "50%      3.000000    0.000000    0.000000    0.000000    0.000000    0.000000   \n",
       "75%      4.000000    0.000000    1.000000    1.000000    1.000000    0.000000   \n",
       "max     10.000000    1.000000    1.000000    1.000000    1.000000    1.000000   \n",
       "\n",
       "            x_110  \n",
       "count  993.000000  \n",
       "mean     0.125881  \n",
       "std      0.331883  \n",
       "min      0.000000  \n",
       "25%      0.000000  \n",
       "50%      0.000000  \n",
       "75%      0.000000  \n",
       "max      1.000000  \n",
       "\n",
       "[8 rows x 111 columns]"
      ]
     },
     "execution_count": 4,
     "metadata": {},
     "output_type": "execute_result"
    }
   ],
   "source": [
    "train_x.describe()"
   ]
  },
  {
   "cell_type": "code",
   "execution_count": 5,
   "metadata": {},
   "outputs": [
    {
     "name": "stdout",
     "output_type": "stream",
     "text": [
      "<class 'pandas.core.frame.DataFrame'>\n",
      "RangeIndex: 1000 entries, 0 to 999\n",
      "Columns: 111 entries, x_0 to x_110\n",
      "dtypes: float64(111)\n",
      "memory usage: 867.3 KB\n"
     ]
    }
   ],
   "source": [
    "train_x.info()"
   ]
  },
  {
   "cell_type": "markdown",
   "metadata": {},
   "source": [
    "2. Check missing and unique values"
   ]
  },
  {
   "cell_type": "code",
   "execution_count": 6,
   "metadata": {},
   "outputs": [
    {
     "data": {
      "text/html": [
       "<div>\n",
       "<style scoped>\n",
       "    .dataframe tbody tr th:only-of-type {\n",
       "        vertical-align: middle;\n",
       "    }\n",
       "\n",
       "    .dataframe tbody tr th {\n",
       "        vertical-align: top;\n",
       "    }\n",
       "\n",
       "    .dataframe thead th {\n",
       "        text-align: right;\n",
       "    }\n",
       "</style>\n",
       "<table border=\"1\" class=\"dataframe\">\n",
       "  <thead>\n",
       "    <tr style=\"text-align: right;\">\n",
       "      <th></th>\n",
       "      <th>count</th>\n",
       "      <th>missing_rate</th>\n",
       "      <th>nunique</th>\n",
       "    </tr>\n",
       "  </thead>\n",
       "  <tbody>\n",
       "    <tr>\n",
       "      <th>x_0</th>\n",
       "      <td>1692</td>\n",
       "      <td>0.004706</td>\n",
       "      <td>65</td>\n",
       "    </tr>\n",
       "    <tr>\n",
       "      <th>x_1</th>\n",
       "      <td>1700</td>\n",
       "      <td>0.000000</td>\n",
       "      <td>12</td>\n",
       "    </tr>\n",
       "    <tr>\n",
       "      <th>x_2</th>\n",
       "      <td>1696</td>\n",
       "      <td>0.002353</td>\n",
       "      <td>4</td>\n",
       "    </tr>\n",
       "    <tr>\n",
       "      <th>x_3</th>\n",
       "      <td>1594</td>\n",
       "      <td>0.062353</td>\n",
       "      <td>7</td>\n",
       "    </tr>\n",
       "    <tr>\n",
       "      <th>x_4</th>\n",
       "      <td>1627</td>\n",
       "      <td>0.042941</td>\n",
       "      <td>4</td>\n",
       "    </tr>\n",
       "    <tr>\n",
       "      <th>...</th>\n",
       "      <td>...</td>\n",
       "      <td>...</td>\n",
       "      <td>...</td>\n",
       "    </tr>\n",
       "    <tr>\n",
       "      <th>x_106</th>\n",
       "      <td>1687</td>\n",
       "      <td>0.007647</td>\n",
       "      <td>2</td>\n",
       "    </tr>\n",
       "    <tr>\n",
       "      <th>x_107</th>\n",
       "      <td>1683</td>\n",
       "      <td>0.010000</td>\n",
       "      <td>2</td>\n",
       "    </tr>\n",
       "    <tr>\n",
       "      <th>x_108</th>\n",
       "      <td>1683</td>\n",
       "      <td>0.010000</td>\n",
       "      <td>2</td>\n",
       "    </tr>\n",
       "    <tr>\n",
       "      <th>x_109</th>\n",
       "      <td>1684</td>\n",
       "      <td>0.009412</td>\n",
       "      <td>2</td>\n",
       "    </tr>\n",
       "    <tr>\n",
       "      <th>x_110</th>\n",
       "      <td>1684</td>\n",
       "      <td>0.009412</td>\n",
       "      <td>2</td>\n",
       "    </tr>\n",
       "  </tbody>\n",
       "</table>\n",
       "<p>111 rows × 3 columns</p>\n",
       "</div>"
      ],
      "text/plain": [
       "       count  missing_rate  nunique\n",
       "x_0     1692      0.004706       65\n",
       "x_1     1700      0.000000       12\n",
       "x_2     1696      0.002353        4\n",
       "x_3     1594      0.062353        7\n",
       "x_4     1627      0.042941        4\n",
       "...      ...           ...      ...\n",
       "x_106   1687      0.007647        2\n",
       "x_107   1683      0.010000        2\n",
       "x_108   1683      0.010000        2\n",
       "x_109   1684      0.009412        2\n",
       "x_110   1684      0.009412        2\n",
       "\n",
       "[111 rows x 3 columns]"
      ]
     },
     "execution_count": 6,
     "metadata": {},
     "output_type": "execute_result"
    }
   ],
   "source": [
    "cols = [f\"x_{i}\" for i in range(111)]\n",
    "data = pd.concat([train_x, test_x])\n",
    "\n",
    "tmp = pd.DataFrame()\n",
    "tmp['count'] = data[cols].count().values\n",
    "tmp['missing_rate'] = (data.shape[0] - tmp['count']) / data.shape[0]\n",
    "tmp['nunique'] = data[cols].nunique().values\n",
    "tmp.index = cols\n",
    "tmp"
   ]
  },
  {
   "cell_type": "code",
   "execution_count": 7,
   "metadata": {},
   "outputs": [
    {
     "name": "stderr",
     "output_type": "stream",
     "text": [
      "a:\\16_Environments\\2_Python\\Lib\\site-packages\\pandas\\core\\arraylike.py:399: RuntimeWarning: divide by zero encountered in log\n",
      "  result = getattr(ufunc, method)(*inputs, **kwargs)\n"
     ]
    },
    {
     "data": {
      "text/plain": [
       "<Axes: ylabel='x_1'>"
      ]
     },
     "execution_count": 7,
     "metadata": {},
     "output_type": "execute_result"
    },
    {
     "data": {
      "image/png": "[encoded data removed]",
      "text/plain": [
       "<Figure size 640x480 with 1 Axes>"
      ]
     },
     "metadata": {},
     "output_type": "display_data"
    }
   ],
   "source": [
    "sns.violinplot(np.log(train_x[\"x_1\"]))"
   ]
  },
  {
   "cell_type": "markdown",
   "metadata": {},
   "source": [
    "3. Check distribution of training data"
   ]
  },
  {
   "cell_type": "code",
   "execution_count": 8,
   "metadata": {},
   "outputs": [
    {
     "data": {
      "text/plain": [
       "<seaborn.axisgrid.FacetGrid at 0x19c7fd91460>"
      ]
     },
     "execution_count": 8,
     "metadata": {},
     "output_type": "execute_result"
    },
    {
     "name": "stderr",
     "output_type": "stream",
     "text": [
      "a:\\16_Environments\\2_Python\\Lib\\site-packages\\pandas\\core\\arraylike.py:399: RuntimeWarning: divide by zero encountered in log\n",
      "  result = getattr(ufunc, method)(*inputs, **kwargs)\n"
     ]
    },
    {
     "data": {
      "text/plain": [
       "<seaborn.axisgrid.FacetGrid at 0x19c1a402330>"
      ]
     },
     "execution_count": 8,
     "metadata": {},
     "output_type": "execute_result"
    },
    {
     "data": {
      "image/png": "[encoded data removed]",
      "text/plain": [
       "<Figure size 500x500 with 1 Axes>"
      ]
     },
     "metadata": {},
     "output_type": "display_data"
    },
    {
     "data": {
      "image/png": "[encoded data removed]",
      "text/plain": [
       "<Figure size 500x500 with 1 Axes>"
      ]
     },
     "metadata": {},
     "output_type": "display_data"
    }
   ],
   "source": [
    "sns.displot(train_x[\"x_1\"])\n",
    "sns.displot(np.log(train_x[\"x_1\"]))"
   ]
  },
  {
   "cell_type": "markdown",
   "metadata": {},
   "source": [
    "4. Analyse feature skewness and kurtosis"
   ]
  },
  {
   "cell_type": "code",
   "execution_count": 9,
   "metadata": {},
   "outputs": [
    {
     "data": {
      "text/html": [
       "<div>\n",
       "<style scoped>\n",
       "    .dataframe tbody tr th:only-of-type {\n",
       "        vertical-align: middle;\n",
       "    }\n",
       "\n",
       "    .dataframe tbody tr th {\n",
       "        vertical-align: top;\n",
       "    }\n",
       "\n",
       "    .dataframe thead th {\n",
       "        text-align: right;\n",
       "    }\n",
       "</style>\n",
       "<table border=\"1\" class=\"dataframe\">\n",
       "  <thead>\n",
       "    <tr style=\"text-align: right;\">\n",
       "      <th></th>\n",
       "      <th>train_Skewness</th>\n",
       "      <th>test_Skewness</th>\n",
       "      <th>train_Kurtosis</th>\n",
       "      <th>test_Kurtosis</th>\n",
       "    </tr>\n",
       "  </thead>\n",
       "  <tbody>\n",
       "    <tr>\n",
       "      <th>x_0</th>\n",
       "      <td>-0.172637</td>\n",
       "      <td>-0.250804</td>\n",
       "      <td>-0.313356</td>\n",
       "      <td>0.045840</td>\n",
       "    </tr>\n",
       "    <tr>\n",
       "      <th>x_1</th>\n",
       "      <td>0.652389</td>\n",
       "      <td>0.541898</td>\n",
       "      <td>0.783468</td>\n",
       "      <td>0.374830</td>\n",
       "    </tr>\n",
       "    <tr>\n",
       "      <th>x_2</th>\n",
       "      <td>1.779331</td>\n",
       "      <td>1.731573</td>\n",
       "      <td>2.142364</td>\n",
       "      <td>1.877772</td>\n",
       "    </tr>\n",
       "    <tr>\n",
       "      <th>x_3</th>\n",
       "      <td>0.475495</td>\n",
       "      <td>0.487082</td>\n",
       "      <td>-1.462243</td>\n",
       "      <td>-1.490582</td>\n",
       "    </tr>\n",
       "    <tr>\n",
       "      <th>x_4</th>\n",
       "      <td>-0.095145</td>\n",
       "      <td>0.008162</td>\n",
       "      <td>-1.523081</td>\n",
       "      <td>-1.502880</td>\n",
       "    </tr>\n",
       "    <tr>\n",
       "      <th>...</th>\n",
       "      <td>...</td>\n",
       "      <td>...</td>\n",
       "      <td>...</td>\n",
       "      <td>...</td>\n",
       "    </tr>\n",
       "    <tr>\n",
       "      <th>x_106</th>\n",
       "      <td>0.379030</td>\n",
       "      <td>0.328737</td>\n",
       "      <td>-1.860079</td>\n",
       "      <td>-1.897424</td>\n",
       "    </tr>\n",
       "    <tr>\n",
       "      <th>x_107</th>\n",
       "      <td>0.289708</td>\n",
       "      <td>0.207042</td>\n",
       "      <td>-1.919944</td>\n",
       "      <td>-1.962823</td>\n",
       "    </tr>\n",
       "    <tr>\n",
       "      <th>x_108</th>\n",
       "      <td>0.223488</td>\n",
       "      <td>0.165903</td>\n",
       "      <td>-1.953997</td>\n",
       "      <td>-1.978210</td>\n",
       "    </tr>\n",
       "    <tr>\n",
       "      <th>x_109</th>\n",
       "      <td>9.356727</td>\n",
       "      <td>9.805188</td>\n",
       "      <td>85.720983</td>\n",
       "      <td>94.414984</td>\n",
       "    </tr>\n",
       "    <tr>\n",
       "      <th>x_110</th>\n",
       "      <td>2.259076</td>\n",
       "      <td>2.475079</td>\n",
       "      <td>3.109681</td>\n",
       "      <td>4.137985</td>\n",
       "    </tr>\n",
       "  </tbody>\n",
       "</table>\n",
       "<p>111 rows × 4 columns</p>\n",
       "</div>"
      ],
      "text/plain": [
       "       train_Skewness  test_Skewness  train_Kurtosis  test_Kurtosis\n",
       "x_0         -0.172637      -0.250804       -0.313356       0.045840\n",
       "x_1          0.652389       0.541898        0.783468       0.374830\n",
       "x_2          1.779331       1.731573        2.142364       1.877772\n",
       "x_3          0.475495       0.487082       -1.462243      -1.490582\n",
       "x_4         -0.095145       0.008162       -1.523081      -1.502880\n",
       "...               ...            ...             ...            ...\n",
       "x_106        0.379030       0.328737       -1.860079      -1.897424\n",
       "x_107        0.289708       0.207042       -1.919944      -1.962823\n",
       "x_108        0.223488       0.165903       -1.953997      -1.978210\n",
       "x_109        9.356727       9.805188       85.720983      94.414984\n",
       "x_110        2.259076       2.475079        3.109681       4.137985\n",
       "\n",
       "[111 rows x 4 columns]"
      ]
     },
     "execution_count": 9,
     "metadata": {},
     "output_type": "execute_result"
    }
   ],
   "source": [
    "pd.set_option('display.max_rows' , 10)\n",
    "tmp = pd.DataFrame(index = cols)\n",
    "for col in cols:\n",
    "    tmp.loc[col, 'train_Skewness'] = train_x[col].skew()\n",
    "    tmp.loc[col, 'test_Skewness'] = test_x[col].skew()\n",
    "    tmp.loc[col, 'train_Kurtosis'] = train_x[col].kurt()\n",
    "    tmp.loc[col, 'test_Kurtosis'] = test_x[col].kurt()\n",
    "tmp\n",
    "\n",
    "# Training set and testing set vary from skewness and kurtosis at some places"
   ]
  },
  {
   "cell_type": "code",
   "execution_count": 10,
   "metadata": {},
   "outputs": [
    {
     "data": {
      "text/plain": [
       "y_0     1.000000\n",
       "x_87    1.000000\n",
       "x_94    0.104285\n",
       "x_39    0.097980\n",
       "x_11    0.096390\n",
       "Name: y_0, dtype: float64"
      ]
     },
     "execution_count": 10,
     "metadata": {},
     "output_type": "execute_result"
    },
    {
     "data": {
      "text/plain": [
       "x_37    0.091573\n",
       "x_30    0.065053\n",
       "x_63    0.064341\n",
       "x_24    0.061082\n",
       "x_47    0.060816\n",
       "Name: y_1, dtype: float64"
      ]
     },
     "execution_count": 10,
     "metadata": {},
     "output_type": "execute_result"
    },
    {
     "data": {
      "text/plain": [
       "x_72    0.073109\n",
       "x_46    0.072577\n",
       "x_47    0.059400\n",
       "x_79    0.059253\n",
       "x_5     0.056017\n",
       "Name: y_2, dtype: float64"
      ]
     },
     "execution_count": 10,
     "metadata": {},
     "output_type": "execute_result"
    },
    {
     "data": {
      "text/plain": [
       "x_70     0.104725\n",
       "x_73     0.066362\n",
       "x_94     0.064405\n",
       "x_100    0.063144\n",
       "x_42     0.062650\n",
       "Name: y_3, dtype: float64"
      ]
     },
     "execution_count": 10,
     "metadata": {},
     "output_type": "execute_result"
    },
    {
     "data": {
      "text/plain": [
       "x_81     0.085354\n",
       "x_59     0.074249\n",
       "x_102    0.062749\n",
       "x_19     0.057621\n",
       "x_1      0.053413\n",
       "Name: y_4, dtype: float64"
      ]
     },
     "execution_count": 10,
     "metadata": {},
     "output_type": "execute_result"
    },
    {
     "data": {
      "text/plain": [
       "x_9     0.119526\n",
       "x_94    0.102871\n",
       "x_98    0.092996\n",
       "x_97    0.082851\n",
       "x_2     0.075621\n",
       "Name: y_5, dtype: float64"
      ]
     },
     "execution_count": 10,
     "metadata": {},
     "output_type": "execute_result"
    },
    {
     "data": {
      "text/plain": [
       "x_33    0.077120\n",
       "x_91    0.073548\n",
       "x_26    0.066815\n",
       "x_53    0.063064\n",
       "x_30    0.062323\n",
       "Name: y_6, dtype: float64"
      ]
     },
     "execution_count": 10,
     "metadata": {},
     "output_type": "execute_result"
    },
    {
     "data": {
      "text/plain": [
       "x_94     0.076954\n",
       "x_50     0.074942\n",
       "x_29     0.064896\n",
       "x_104    0.063456\n",
       "x_68     0.059105\n",
       "Name: y_7, dtype: float64"
      ]
     },
     "execution_count": 10,
     "metadata": {},
     "output_type": "execute_result"
    },
    {
     "data": {
      "text/plain": [
       "x_87     1.000000\n",
       "x_33     0.096403\n",
       "x_102    0.081900\n",
       "x_34     0.075662\n",
       "x_44     0.072638\n",
       "Name: y_8, dtype: float64"
      ]
     },
     "execution_count": 10,
     "metadata": {},
     "output_type": "execute_result"
    },
    {
     "data": {
      "text/plain": [
       "x_87    1.000000\n",
       "x_33    0.162011\n",
       "x_34    0.109850\n",
       "x_94    0.071808\n",
       "x_43    0.068742\n",
       "Name: y_9, dtype: float64"
      ]
     },
     "execution_count": 10,
     "metadata": {},
     "output_type": "execute_result"
    },
    {
     "data": {
      "text/plain": [
       "x_33    0.109333\n",
       "x_34    0.104504\n",
       "x_69    0.079865\n",
       "x_5     0.071705\n",
       "x_90    0.066189\n",
       "Name: y_10, dtype: float64"
      ]
     },
     "execution_count": 10,
     "metadata": {},
     "output_type": "execute_result"
    }
   ],
   "source": [
    "# Analyse correlation of features and every y_j\n",
    "data_train = pd.concat([train_x, train_y], axis=1)\n",
    "correlations = pd.DataFrame()\n",
    "for c in train_y.columns:\n",
    "    correlations[c] = data_train[list(train_x.columns) + [c]].corr()[c]\n",
    "    correlations[c].sort_values(ascending=False).head()\n"
   ]
  },
  {
   "cell_type": "markdown",
   "metadata": {},
   "source": [
    "4.1 Transform to fix important features"
   ]
  },
  {
   "cell_type": "code",
   "execution_count": 11,
   "metadata": {},
   "outputs": [
    {
     "name": "stdout",
     "output_type": "stream",
     "text": [
      "Columns with large skewness differences:\n",
      "Empty DataFrame\n",
      "Columns: [train_skewness, test_skewness, train_kurtosis, test_kurtosis]\n",
      "Index: []\n",
      "\n",
      "Columns with large kurtosis differences:\n",
      "       train_skewness  test_skewness  train_kurtosis  test_kurtosis\n",
      "x_14         8.611542       8.203828       72.303253      65.489902\n",
      "x_34         1.306545       0.878386       27.680777      13.951292\n",
      "x_49         5.326174       4.359394       26.420972      17.053027\n",
      "x_58         5.966153       6.399125       33.662303      39.060396\n",
      "x_73         5.326174       6.194006       26.420972      36.469899\n",
      "x_76         7.056933       6.194006       47.896086      36.469899\n",
      "x_87        -0.164990       0.782885      499.512111     349.772811\n",
      "x_109        9.390670       9.870534       86.357390      95.700872\n"
     ]
    }
   ],
   "source": [
    "# Filled up missing values\n",
    "for column in train_x.columns:\n",
    "    train_x.fillna({column: train_x[column].median()}, inplace=True)\n",
    "    test_x.fillna({column: test_x[column].median()}, inplace=True)\n",
    "\n",
    "# filter out less valued columns\n",
    "threshold = 0.01  \n",
    "cols_to_drop = [col for col in train_x.columns if (train_x[col] != 0).mean() < threshold]\n",
    "cols_to_drop += [\"x_8\",  \"x_26\", \"x_29\", \"x_30\", \"x_32\", \"x_39\", \"x_50\", \"x_53\", \"x_54\", \"x_64\", \"x_68\", \"x_71\", \"x_93\", \"x_102\"]\n",
    "\n",
    "train_x.drop(columns=cols_to_drop, inplace=True)\n",
    "test_x.drop(columns=cols_to_drop, inplace=True)\n",
    "\n",
    "from scipy.stats import yeojohnson\n",
    "# Yeo-Johnson transform\n",
    "train_log = train_x.apply(lambda x: yeojohnson(x)[0])\n",
    "test_log = test_x.apply(lambda x: yeojohnson(x)[0])\n",
    "\n",
    "\n",
    "\n",
    "# Logarithm transform\n",
    "# train_log = train_x.apply(lambda x: np.log1p(x))\n",
    "# test_log = test_x.apply(lambda x: np.log1p(x))\n",
    "\n",
    "\n",
    "# sqrt transform\n",
    "# train_log = train_x.apply(lambda x: np.sqrt(x))\n",
    "# test_log = test_x.apply(lambda x: np.sqrt(x))\n",
    "\n",
    "\n",
    "train_skewness = train_log.apply(lambda x: x.skew())\n",
    "test_skewness = test_log.apply(lambda x: x.skew())\n",
    "train_kurtosis = train_log.apply(lambda x: x.kurt())\n",
    "test_kurtosis = test_log.apply(lambda x: x.kurt())\n",
    "\n",
    "summary = pd.DataFrame({\n",
    "    'train_skewness': train_skewness,\n",
    "    'test_skewness': test_skewness,\n",
    "    'train_kurtosis': train_kurtosis,\n",
    "    'test_kurtosis': test_kurtosis\n",
    "})\n",
    "\n",
    "# Define threshold\n",
    "skew_threshold = 1.0\n",
    "kurtosis_threshold = 5.0\n",
    "\n",
    "pd.set_option('display.max_rows' , None)\n",
    "\n",
    "\n",
    "large_diff_skew = summary[(abs(summary['train_skewness'] - summary['test_skewness']) > skew_threshold)]\n",
    "large_diff_kurtosis = summary[(abs(summary['train_kurtosis'] - summary['test_kurtosis']) > kurtosis_threshold)]\n",
    "\n",
    "# Check differences\n",
    "print(\"Columns with large skewness differences:\")\n",
    "print(large_diff_skew)\n",
    "\n",
    "print(\"\\nColumns with large kurtosis differences:\")\n",
    "print(large_diff_kurtosis)"
   ]
  },
  {
   "cell_type": "code",
   "execution_count": 12,
   "metadata": {},
   "outputs": [
    {
     "data": {
      "text/plain": [
       "y_0     1.000000\n",
       "x_0     0.091839\n",
       "x_58    0.080054\n",
       "x_94    0.074590\n",
       "x_96    0.050642\n",
       "Name: y_0, dtype: float64"
      ]
     },
     "execution_count": 12,
     "metadata": {},
     "output_type": "execute_result"
    },
    {
     "data": {
      "text/plain": [
       "x_37     0.091130\n",
       "x_92     0.046142\n",
       "x_28     0.045929\n",
       "x_100    0.041578\n",
       "x_38     0.039791\n",
       "Name: y_1, dtype: float64"
      ]
     },
     "execution_count": 12,
     "metadata": {},
     "output_type": "execute_result"
    },
    {
     "data": {
      "text/plain": [
       "x_46    0.070467\n",
       "x_5     0.056524\n",
       "x_37    0.050471\n",
       "x_56    0.049821\n",
       "x_76    0.049447\n",
       "Name: y_2, dtype: float64"
      ]
     },
     "execution_count": 12,
     "metadata": {},
     "output_type": "execute_result"
    },
    {
     "data": {
      "text/plain": [
       "x_73     0.062120\n",
       "x_100    0.059870\n",
       "x_46     0.055460\n",
       "x_97     0.054986\n",
       "x_94     0.054364\n",
       "Name: y_3, dtype: float64"
      ]
     },
     "execution_count": 12,
     "metadata": {},
     "output_type": "execute_result"
    },
    {
     "data": {
      "text/plain": [
       "x_81     0.070850\n",
       "x_1      0.053413\n",
       "x_98     0.050402\n",
       "x_99     0.041901\n",
       "x_105    0.037940\n",
       "Name: y_4, dtype: float64"
      ]
     },
     "execution_count": 12,
     "metadata": {},
     "output_type": "execute_result"
    },
    {
     "data": {
      "text/plain": [
       "x_9     0.111283\n",
       "x_98    0.093839\n",
       "x_94    0.093233\n",
       "x_97    0.083283\n",
       "x_2     0.074917\n",
       "Name: y_5, dtype: float64"
      ]
     },
     "execution_count": 12,
     "metadata": {},
     "output_type": "execute_result"
    },
    {
     "data": {
      "text/plain": [
       "x_91    0.073156\n",
       "x_56    0.059969\n",
       "x_98    0.056269\n",
       "x_33    0.045637\n",
       "x_43    0.043989\n",
       "Name: y_6, dtype: float64"
      ]
     },
     "execution_count": 12,
     "metadata": {},
     "output_type": "execute_result"
    },
    {
     "data": {
      "text/plain": [
       "x_104    0.062942\n",
       "x_94     0.058538\n",
       "x_14     0.058129\n",
       "x_25     0.054023\n",
       "x_105    0.048929\n",
       "Name: y_7, dtype: float64"
      ]
     },
     "execution_count": 12,
     "metadata": {},
     "output_type": "execute_result"
    },
    {
     "data": {
      "text/plain": [
       "x_10    0.070756\n",
       "x_44    0.070263\n",
       "x_37    0.066567\n",
       "x_0     0.061353\n",
       "x_33    0.060726\n",
       "Name: y_8, dtype: float64"
      ]
     },
     "execution_count": 12,
     "metadata": {},
     "output_type": "execute_result"
    },
    {
     "data": {
      "text/plain": [
       "x_33    0.096476\n",
       "x_34    0.065040\n",
       "x_3     0.063187\n",
       "x_43    0.057896\n",
       "x_91    0.052329\n",
       "Name: y_9, dtype: float64"
      ]
     },
     "execution_count": 12,
     "metadata": {},
     "output_type": "execute_result"
    },
    {
     "data": {
      "text/plain": [
       "x_5      0.070758\n",
       "x_33     0.066109\n",
       "x_90     0.063929\n",
       "x_100    0.062764\n",
       "x_4      0.061106\n",
       "Name: y_10, dtype: float64"
      ]
     },
     "execution_count": 12,
     "metadata": {},
     "output_type": "execute_result"
    }
   ],
   "source": [
    "# Analyse correlation of features and every y_j\n",
    "data_train = pd.concat([train_x, train_y], axis=1)\n",
    "correlations = pd.DataFrame()\n",
    "for c in train_y.columns:\n",
    "    correlations[c] = data_train[list(train_x.columns) + [c]].corr()[c]\n",
    "    correlations[c].sort_values(ascending=False).head()"
   ]
  },
  {
   "cell_type": "markdown",
   "metadata": {},
   "source": [
    "5. Analyse types of feature values"
   ]
  },
  {
   "cell_type": "code",
   "execution_count": 13,
   "metadata": {},
   "outputs": [
    {
     "data": {
      "text/plain": [
       "('x_0', 61)"
      ]
     },
     "execution_count": 13,
     "metadata": {},
     "output_type": "execute_result"
    },
    {
     "data": {
      "text/plain": [
       "('x_1', 12)"
      ]
     },
     "execution_count": 13,
     "metadata": {},
     "output_type": "execute_result"
    },
    {
     "data": {
      "text/plain": [
       "('x_2', 4)"
      ]
     },
     "execution_count": 13,
     "metadata": {},
     "output_type": "execute_result"
    },
    {
     "data": {
      "text/plain": [
       "('x_3', 7)"
      ]
     },
     "execution_count": 13,
     "metadata": {},
     "output_type": "execute_result"
    },
    {
     "data": {
      "text/plain": [
       "('x_4', 4)"
      ]
     },
     "execution_count": 13,
     "metadata": {},
     "output_type": "execute_result"
    },
    {
     "data": {
      "text/plain": [
       "('x_5', 3)"
      ]
     },
     "execution_count": 13,
     "metadata": {},
     "output_type": "execute_result"
    },
    {
     "data": {
      "text/plain": [
       "('x_7', 4)"
      ]
     },
     "execution_count": 13,
     "metadata": {},
     "output_type": "execute_result"
    },
    {
     "data": {
      "text/plain": [
       "('x_9', 8)"
      ]
     },
     "execution_count": 13,
     "metadata": {},
     "output_type": "execute_result"
    },
    {
     "data": {
      "text/plain": [
       "('x_10', 5)"
      ]
     },
     "execution_count": 13,
     "metadata": {},
     "output_type": "execute_result"
    },
    {
     "data": {
      "text/plain": [
       "('x_14', 2)"
      ]
     },
     "execution_count": 13,
     "metadata": {},
     "output_type": "execute_result"
    },
    {
     "data": {
      "text/plain": [
       "('x_25', 2)"
      ]
     },
     "execution_count": 13,
     "metadata": {},
     "output_type": "execute_result"
    },
    {
     "data": {
      "text/plain": [
       "('x_28', 2)"
      ]
     },
     "execution_count": 13,
     "metadata": {},
     "output_type": "execute_result"
    },
    {
     "data": {
      "text/plain": [
       "('x_33', 27)"
      ]
     },
     "execution_count": 13,
     "metadata": {},
     "output_type": "execute_result"
    },
    {
     "data": {
      "text/plain": [
       "('x_34', 69)"
      ]
     },
     "execution_count": 13,
     "metadata": {},
     "output_type": "execute_result"
    },
    {
     "data": {
      "text/plain": [
       "('x_35', 129)"
      ]
     },
     "execution_count": 13,
     "metadata": {},
     "output_type": "execute_result"
    },
    {
     "data": {
      "text/plain": [
       "('x_36', 86)"
      ]
     },
     "execution_count": 13,
     "metadata": {},
     "output_type": "execute_result"
    },
    {
     "data": {
      "text/plain": [
       "('x_37', 10)"
      ]
     },
     "execution_count": 13,
     "metadata": {},
     "output_type": "execute_result"
    },
    {
     "data": {
      "text/plain": [
       "('x_38', 2)"
      ]
     },
     "execution_count": 13,
     "metadata": {},
     "output_type": "execute_result"
    },
    {
     "data": {
      "text/plain": [
       "('x_43', 5)"
      ]
     },
     "execution_count": 13,
     "metadata": {},
     "output_type": "execute_result"
    },
    {
     "data": {
      "text/plain": [
       "('x_44', 5)"
      ]
     },
     "execution_count": 13,
     "metadata": {},
     "output_type": "execute_result"
    },
    {
     "data": {
      "text/plain": [
       "('x_45', 5)"
      ]
     },
     "execution_count": 13,
     "metadata": {},
     "output_type": "execute_result"
    },
    {
     "data": {
      "text/plain": [
       "('x_46', 5)"
      ]
     },
     "execution_count": 13,
     "metadata": {},
     "output_type": "execute_result"
    },
    {
     "data": {
      "text/plain": [
       "('x_48', 2)"
      ]
     },
     "execution_count": 13,
     "metadata": {},
     "output_type": "execute_result"
    },
    {
     "data": {
      "text/plain": [
       "('x_49', 2)"
      ]
     },
     "execution_count": 13,
     "metadata": {},
     "output_type": "execute_result"
    },
    {
     "data": {
      "text/plain": [
       "('x_52', 2)"
      ]
     },
     "execution_count": 13,
     "metadata": {},
     "output_type": "execute_result"
    },
    {
     "data": {
      "text/plain": [
       "('x_56', 2)"
      ]
     },
     "execution_count": 13,
     "metadata": {},
     "output_type": "execute_result"
    },
    {
     "data": {
      "text/plain": [
       "('x_57', 2)"
      ]
     },
     "execution_count": 13,
     "metadata": {},
     "output_type": "execute_result"
    },
    {
     "data": {
      "text/plain": [
       "('x_58', 2)"
      ]
     },
     "execution_count": 13,
     "metadata": {},
     "output_type": "execute_result"
    },
    {
     "data": {
      "text/plain": [
       "('x_73', 2)"
      ]
     },
     "execution_count": 13,
     "metadata": {},
     "output_type": "execute_result"
    },
    {
     "data": {
      "text/plain": [
       "('x_76', 2)"
      ]
     },
     "execution_count": 13,
     "metadata": {},
     "output_type": "execute_result"
    },
    {
     "data": {
      "text/plain": [
       "('x_81', 2)"
      ]
     },
     "execution_count": 13,
     "metadata": {},
     "output_type": "execute_result"
    },
    {
     "data": {
      "text/plain": [
       "('x_82', 45)"
      ]
     },
     "execution_count": 13,
     "metadata": {},
     "output_type": "execute_result"
    },
    {
     "data": {
      "text/plain": [
       "('x_83', 797)"
      ]
     },
     "execution_count": 13,
     "metadata": {},
     "output_type": "execute_result"
    },
    {
     "data": {
      "text/plain": [
       "('x_84', 39)"
      ]
     },
     "execution_count": 13,
     "metadata": {},
     "output_type": "execute_result"
    },
    {
     "data": {
      "text/plain": [
       "('x_85', 827)"
      ]
     },
     "execution_count": 13,
     "metadata": {},
     "output_type": "execute_result"
    },
    {
     "data": {
      "text/plain": [
       "('x_86', 825)"
      ]
     },
     "execution_count": 13,
     "metadata": {},
     "output_type": "execute_result"
    },
    {
     "data": {
      "text/plain": [
       "('x_87', 3)"
      ]
     },
     "execution_count": 13,
     "metadata": {},
     "output_type": "execute_result"
    },
    {
     "data": {
      "text/plain": [
       "('x_88', 927)"
      ]
     },
     "execution_count": 13,
     "metadata": {},
     "output_type": "execute_result"
    },
    {
     "data": {
      "text/plain": [
       "('x_89', 885)"
      ]
     },
     "execution_count": 13,
     "metadata": {},
     "output_type": "execute_result"
    },
    {
     "data": {
      "text/plain": [
       "('x_90', 921)"
      ]
     },
     "execution_count": 13,
     "metadata": {},
     "output_type": "execute_result"
    },
    {
     "data": {
      "text/plain": [
       "('x_91', 4)"
      ]
     },
     "execution_count": 13,
     "metadata": {},
     "output_type": "execute_result"
    },
    {
     "data": {
      "text/plain": [
       "('x_92', 3)"
      ]
     },
     "execution_count": 13,
     "metadata": {},
     "output_type": "execute_result"
    },
    {
     "data": {
      "text/plain": [
       "('x_94', 2)"
      ]
     },
     "execution_count": 13,
     "metadata": {},
     "output_type": "execute_result"
    },
    {
     "data": {
      "text/plain": [
       "('x_95', 2)"
      ]
     },
     "execution_count": 13,
     "metadata": {},
     "output_type": "execute_result"
    },
    {
     "data": {
      "text/plain": [
       "('x_96', 2)"
      ]
     },
     "execution_count": 13,
     "metadata": {},
     "output_type": "execute_result"
    },
    {
     "data": {
      "text/plain": [
       "('x_97', 2)"
      ]
     },
     "execution_count": 13,
     "metadata": {},
     "output_type": "execute_result"
    },
    {
     "data": {
      "text/plain": [
       "('x_98', 5)"
      ]
     },
     "execution_count": 13,
     "metadata": {},
     "output_type": "execute_result"
    },
    {
     "data": {
      "text/plain": [
       "('x_99', 11)"
      ]
     },
     "execution_count": 13,
     "metadata": {},
     "output_type": "execute_result"
    },
    {
     "data": {
      "text/plain": [
       "('x_100', 12)"
      ]
     },
     "execution_count": 13,
     "metadata": {},
     "output_type": "execute_result"
    },
    {
     "data": {
      "text/plain": [
       "('x_101', 11)"
      ]
     },
     "execution_count": 13,
     "metadata": {},
     "output_type": "execute_result"
    },
    {
     "data": {
      "text/plain": [
       "('x_103', 10)"
      ]
     },
     "execution_count": 13,
     "metadata": {},
     "output_type": "execute_result"
    },
    {
     "data": {
      "text/plain": [
       "('x_104', 11)"
      ]
     },
     "execution_count": 13,
     "metadata": {},
     "output_type": "execute_result"
    },
    {
     "data": {
      "text/plain": [
       "('x_105', 2)"
      ]
     },
     "execution_count": 13,
     "metadata": {},
     "output_type": "execute_result"
    },
    {
     "data": {
      "text/plain": [
       "('x_106', 2)"
      ]
     },
     "execution_count": 13,
     "metadata": {},
     "output_type": "execute_result"
    },
    {
     "data": {
      "text/plain": [
       "('x_107', 2)"
      ]
     },
     "execution_count": 13,
     "metadata": {},
     "output_type": "execute_result"
    },
    {
     "data": {
      "text/plain": [
       "('x_108', 2)"
      ]
     },
     "execution_count": 13,
     "metadata": {},
     "output_type": "execute_result"
    },
    {
     "data": {
      "text/plain": [
       "('x_109', 2)"
      ]
     },
     "execution_count": 13,
     "metadata": {},
     "output_type": "execute_result"
    },
    {
     "data": {
      "text/plain": [
       "('x_110', 2)"
      ]
     },
     "execution_count": 13,
     "metadata": {},
     "output_type": "execute_result"
    }
   ],
   "source": [
    "# The print out is features amount of values in type \n",
    "multitags = []\n",
    "for col in list(train_x.columns):\n",
    "    col, len(train_x[col].value_counts())\n",
    "    if len(train_x[col].value_counts()) > 20:\n",
    "        multitags.append(col)"
   ]
  }
 ],
 "metadata": {
  "kernelspec": {
   "display_name": "Python 3",
   "language": "python",
   "name": "python3"
  },
  "language_info": {
   "codemirror_mode": {
    "name": "ipython",
    "version": 3
   },
   "file_extension": ".py",
   "mimetype": "text/x-python",
   "name": "python",
   "nbconvert_exporter": "python",
   "pygments_lexer": "ipython3",
   "version": "3.12.1"
  }
 },
 "nbformat": 4,
 "nbformat_minor": 2
}
