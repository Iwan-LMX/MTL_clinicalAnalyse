{
 "cells": [
  {
   "cell_type": "code",
   "execution_count": 23,
   "metadata": {},
   "outputs": [],
   "source": [
    "import numpy as np\n",
    "import pandas as pd\n",
    "\n",
    "from sklearn.naive_bayes import GaussianNB\n",
    "from sklearn.metrics import accuracy_score"
   ]
  },
  {
   "cell_type": "code",
   "execution_count": 41,
   "metadata": {},
   "outputs": [],
   "source": [
    "x_train=np.load(\"X_train.npy\")\n",
    "y_train=np.load(\"y_train.npy\")\n",
    "x_test=np.load(\"X_test.npy\")\n",
    "\n",
    "x_train = pd.DataFrame(x_train).rename(columns={i: f\"x_{i}\" for i in range(111)})\n",
    "y_train = pd.DataFrame(y_train).rename(columns={i: f\"x_{i}\" for i in range(111)})\n",
    "x_test = pd.DataFrame(x_test).rename(columns={i: f\"x_{i}\" for i in range(111)})\n"
   ]
  },
  {
   "cell_type": "code",
   "execution_count": 42,
   "metadata": {},
   "outputs": [],
   "source": [
    "#中位数填补\n",
    "for column in x_train.columns:\n",
    "    x_train[column].fillna(x_train[column].median(), inplace=True)\n",
    "    x_test[column].fillna(x_test[column].median(), inplace=True)"
   ]
  },
  {
   "cell_type": "code",
   "execution_count": 43,
   "metadata": {},
   "outputs": [],
   "source": [
    "threshold = 0.01  # 或者任何您认为合适的值\n",
    "\n",
    "# 找出非零值少于1%的列\n",
    "cols_to_drop = [col for col in x_train.columns if (x_train[col] != 0).mean() < threshold]\n",
    "\n",
    "# 删除这些列\n",
    "x_train.drop(columns=cols_to_drop, inplace=True)\n",
    "x_test.drop(columns=cols_to_drop, inplace=True)"
   ]
  },
  {
   "cell_type": "code",
   "execution_count": 45,
   "metadata": {},
   "outputs": [
    {
     "name": "stdout",
     "output_type": "stream",
     "text": [
      "Feature 0: Training Accuracy: 0.635, Recall: 0.1935483870967742, F1 Score: 0.24742268041237114\n",
      "Feature 1: Training Accuracy: 0.39, Recall: 0.7674418604651163, F1 Score: 0.35106382978723405\n",
      "Feature 2: Training Accuracy: 0.62, Recall: 0.3333333333333333, F1 Score: 0.2549019607843137\n",
      "Feature 3: Training Accuracy: 0.255, Recall: 0.8947368421052632, F1 Score: 0.31336405529953915\n",
      "Feature 4: Training Accuracy: 0.53, Recall: 0.5, F1 Score: 0.3088235294117647\n",
      "Feature 5: Training Accuracy: 0.34, Recall: 0.9607843137254902, F1 Score: 0.42608695652173917\n",
      "Feature 6: Training Accuracy: 0.625, Recall: 0.23529411764705882, F1 Score: 0.24242424242424243\n",
      "Feature 7: Training Accuracy: 0.255, Recall: 0.9, F1 Score: 0.3257918552036199\n",
      "Feature 8: Training Accuracy: 0.455, Recall: 0.6153846153846154, F1 Score: 0.4682926829268293\n",
      "Feature 9: Training Accuracy: 0.495, Recall: 0.5882352941176471, F1 Score: 0.37267080745341613\n",
      "Feature 10: Training Accuracy: 0.39, Recall: 0.7592592592592593, F1 Score: 0.4019607843137255\n"
     ]
    }
   ],
   "source": [
    "from sklearn.metrics import recall_score, f1_score\n",
    "\n",
    "for i in range(y_train.shape[1]):\n",
    "    y = y_train.iloc[:, i]  # 选择第几个目标特征\n",
    "    X_train, X_valid, Y_train, Y_valid = train_test_split(x_train, y, test_size=0.2, random_state=42)\n",
    "    \n",
    "    # 初始化高斯朴素贝叶斯模型\n",
    "    model = GaussianNB()\n",
    "    \n",
    "    # 训练模型\n",
    "    model.fit(X_train, Y_train)\n",
    "    \n",
    "    # 在验证集上评估模型\n",
    "    Y_valid_pred = model.predict(X_valid)\n",
    "    accuracy = accuracy_score(Y_valid, Y_valid_pred)\n",
    "    recall = recall_score(Y_valid, Y_valid_pred)\n",
    "    f1 = f1_score(Y_valid, Y_valid_pred)\n",
    "\n",
    "    print(f\"Feature {i}: Training Accuracy: {accuracy}, Recall: {recall}, F1 Score: {f1}\")\n"
   ]
  },
  {
   "cell_type": "code",
   "execution_count": 46,
   "metadata": {},
   "outputs": [
    {
     "name": "stdout",
     "output_type": "stream",
     "text": [
      "521    1\n",
      "737    0\n",
      "740    1\n",
      "660    0\n",
      "411    0\n",
      "      ..\n",
      "408    0\n",
      "332    0\n",
      "208    1\n",
      "613    1\n",
      "78     0\n",
      "Name: x_10, Length: 200, dtype: int64\n"
     ]
    }
   ],
   "source": [
    "print(Y_valid)"
   ]
  },
  {
   "cell_type": "code",
   "execution_count": 47,
   "metadata": {},
   "outputs": [
    {
     "name": "stdout",
     "output_type": "stream",
     "text": [
      "[0 1 1 1 1 0 1 0 1 1 0 1 1 1 1 1 0 1 1 1 1 1 1 1 1 0 1 1 1 1 0 0 1 1 1 1 1\n",
      " 1 1 1 1 1 1 1 1 1 1 1 1 1 0 1 1 1 1 1 1 1 0 1 0 0 1 1 1 0 1 1 1 1 1 1 0 1\n",
      " 1 0 1 1 1 0 0 1 0 1 1 1 0 0 1 1 1 1 1 0 1 0 1 1 1 1 1 0 0 1 0 1 1 1 1 1 0\n",
      " 1 0 1 0 1 0 1 1 1 0 1 0 1 1 0 1 1 1 1 1 0 1 1 0 1 1 1 0 1 1 1 1 0 1 1 1 1\n",
      " 1 0 1 1 1 1 0 1 1 1 1 1 1 0 0 0 1 1 0 1 0 1 1 1 1 1 1 1 1 1 0 0 1 0 1 1 1\n",
      " 1 1 1 1 1 0 1 0 1 1 0 0 1 1 1]\n"
     ]
    }
   ],
   "source": [
    "print( Y_valid_pred)"
   ]
  },
  {
   "cell_type": "code",
   "execution_count": null,
   "metadata": {},
   "outputs": [],
   "source": []
  }
 ],
 "metadata": {
  "kernelspec": {
   "display_name": "Python 3 (ipykernel)",
   "language": "python",
   "name": "python3"
  },
  "language_info": {
   "codemirror_mode": {
    "name": "ipython",
    "version": 3
   },
   "file_extension": ".py",
   "mimetype": "text/x-python",
   "name": "python",
   "nbconvert_exporter": "python",
   "pygments_lexer": "ipython3",
   "version": "3.11.7"
  }
 },
 "nbformat": 4,
 "nbformat_minor": 4
}
